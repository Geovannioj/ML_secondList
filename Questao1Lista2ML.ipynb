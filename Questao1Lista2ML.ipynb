{
 "cells": [
  {
   "cell_type": "code",
   "execution_count": 49,
   "metadata": {},
   "outputs": [],
   "source": [
    "import numpy as np\n",
    "import keras\n",
    "import pandas as pd\n",
    "import cv2\n",
    "import matplotlib.pyplot as plt\n",
    "from sklearn.model_selection import train_test_split\n",
    "from sklearn.datasets import load_iris\n",
    "from sklearn.metrics import confusion_matrix\n",
    "from keras.models import Sequential\n",
    "from keras.optimizers import SGD\n",
    "from keras.layers import Dense, Dropout, Activation\n",
    "from keras.callbacks import EarlyStopping, ModelCheckpoint\n",
    "from keras.models import load_model"
   ]
  },
  {
   "cell_type": "markdown",
   "metadata": {},
   "source": [
    "# Iris dataset"
   ]
  },
  {
   "cell_type": "markdown",
   "metadata": {},
   "source": [
    "### Dataset load and setting"
   ]
  },
  {
   "cell_type": "code",
   "execution_count": 2,
   "metadata": {},
   "outputs": [],
   "source": [
    "# create object of class 'load_iris'\n",
    "iris = load_iris()"
   ]
  },
  {
   "cell_type": "code",
   "execution_count": 3,
   "metadata": {},
   "outputs": [],
   "source": [
    "# save features and targets from the 'iris'\n",
    "features, targets = iris.data, iris.target\n"
   ]
  },
  {
   "cell_type": "markdown",
   "metadata": {},
   "source": [
    "### Dataset Split into:\n",
    "Train, test and validation"
   ]
  },
  {
   "cell_type": "code",
   "execution_count": 4,
   "metadata": {},
   "outputs": [],
   "source": [
    "# Split: train_size=0.8 and test_size=0.2\n",
    "# in a second split the test size will be split into two. \n",
    "# It will be 0.1 to test set  and 0.1 to validation set  \n",
    "train_features, test_features, train_targets, test_targets = train_test_split(\n",
    "        features, targets,\n",
    "        train_size=0.8,\n",
    "        test_size=0.2,\n",
    "        random_state=23,\n",
    "        stratify=targets\n",
    "    )"
   ]
  },
  {
   "cell_type": "code",
   "execution_count": 5,
   "metadata": {},
   "outputs": [],
   "source": [
    " class_number = len(np.unique(targets))"
   ]
  },
  {
   "cell_type": "code",
   "execution_count": 6,
   "metadata": {},
   "outputs": [
    {
     "data": {
      "text/plain": [
       "3"
      ]
     },
     "execution_count": 6,
     "metadata": {},
     "output_type": "execute_result"
    }
   ],
   "source": [
    "# amount of classes to the problem\n",
    "class_number"
   ]
  },
  {
   "cell_type": "code",
   "execution_count": 7,
   "metadata": {},
   "outputs": [
    {
     "data": {
      "text/plain": [
       "(30, 4)"
      ]
     },
     "execution_count": 7,
     "metadata": {},
     "output_type": "execute_result"
    }
   ],
   "source": [
    "test_features.shape"
   ]
  },
  {
   "cell_type": "code",
   "execution_count": 8,
   "metadata": {},
   "outputs": [
    {
     "data": {
      "text/plain": [
       "(120, 4)"
      ]
     },
     "execution_count": 8,
     "metadata": {},
     "output_type": "execute_result"
    }
   ],
   "source": [
    "train_features.shape"
   ]
  },
  {
   "cell_type": "markdown",
   "metadata": {},
   "source": [
    "## Amount of half of the test's first split"
   ]
  },
  {
   "cell_type": "code",
   "execution_count": 9,
   "metadata": {},
   "outputs": [],
   "source": [
    "half_test_samples = int((len(test_features))/2)"
   ]
  },
  {
   "cell_type": "markdown",
   "metadata": {},
   "source": [
    "### Split of the test set into half"
   ]
  },
  {
   "cell_type": "code",
   "execution_count": 10,
   "metadata": {},
   "outputs": [],
   "source": [
    "val_features = test_features[:half_test_samples]"
   ]
  },
  {
   "cell_type": "code",
   "execution_count": 11,
   "metadata": {},
   "outputs": [
    {
     "data": {
      "text/plain": [
       "(15, 4)"
      ]
     },
     "execution_count": 11,
     "metadata": {},
     "output_type": "execute_result"
    }
   ],
   "source": [
    "val_features.shape"
   ]
  },
  {
   "cell_type": "code",
   "execution_count": 12,
   "metadata": {},
   "outputs": [],
   "source": [
    "val_targets = test_targets[:half_test_samples]"
   ]
  },
  {
   "cell_type": "markdown",
   "metadata": {},
   "source": [
    "### Test set now is it's half size"
   ]
  },
  {
   "cell_type": "code",
   "execution_count": 13,
   "metadata": {},
   "outputs": [],
   "source": [
    "test_features = test_features[half_test_samples:]"
   ]
  },
  {
   "cell_type": "code",
   "execution_count": 14,
   "metadata": {},
   "outputs": [
    {
     "data": {
      "text/plain": [
       "(15, 4)"
      ]
     },
     "execution_count": 14,
     "metadata": {},
     "output_type": "execute_result"
    }
   ],
   "source": [
    "test_features.shape"
   ]
  },
  {
   "cell_type": "code",
   "execution_count": 15,
   "metadata": {},
   "outputs": [],
   "source": [
    "test_targets = test_targets[half_test_samples:]"
   ]
  },
  {
   "cell_type": "code",
   "execution_count": 16,
   "metadata": {},
   "outputs": [
    {
     "data": {
      "text/plain": [
       "array([1, 2, 1, 1, 2, 0, 2, 2, 0, 0, 0, 0, 1, 1, 1])"
      ]
     },
     "execution_count": 16,
     "metadata": {},
     "output_type": "execute_result"
    }
   ],
   "source": [
    "test_targets"
   ]
  },
  {
   "cell_type": "markdown",
   "metadata": {},
   "source": [
    "## Model Creation"
   ]
  },
  {
   "cell_type": "code",
   "execution_count": 17,
   "metadata": {},
   "outputs": [],
   "source": [
    "def create_MLP_model(classes_number):\n",
    "    \"\"\"\n",
    "    Function to create a MLP model\n",
    "    classes_number: Number of classes to be classified\n",
    "    \n",
    "    return model - model to be used in the training stage\n",
    "    \"\"\"\n",
    "    model = Sequential()\n",
    "    model.add(Dense(64, input_dim=4, activation='sigmoid'))\n",
    "    model.add(Dropout(0.5))\n",
    "#     model.add(Dense(64, activation='relu'))\n",
    "#     model.add(Dropout(0.5))\n",
    "    model.add(Dense(3, activation='softmax'))\n",
    "\n",
    "    return model"
   ]
  },
  {
   "cell_type": "markdown",
   "metadata": {},
   "source": [
    "## Encoding classes"
   ]
  },
  {
   "cell_type": "code",
   "execution_count": 22,
   "metadata": {},
   "outputs": [],
   "source": [
    "train_targets = keras.utils.np_utils.to_categorical(train_targets, class_number)\n",
    "test_targets = keras.utils.np_utils.to_categorical(test_targets, class_number)\n",
    "val_targets = keras.utils.np_utils.to_categorical(val_targets, class_number)"
   ]
  },
  {
   "cell_type": "markdown",
   "metadata": {},
   "source": [
    "### Model compilation"
   ]
  },
  {
   "cell_type": "code",
   "execution_count": 23,
   "metadata": {},
   "outputs": [],
   "source": [
    "model = create_MLP_model(class_number)"
   ]
  },
  {
   "cell_type": "code",
   "execution_count": 24,
   "metadata": {},
   "outputs": [
    {
     "name": "stdout",
     "output_type": "stream",
     "text": [
      "_________________________________________________________________\n",
      "Layer (type)                 Output Shape              Param #   \n",
      "=================================================================\n",
      "dense_3 (Dense)              (None, 64)                320       \n",
      "_________________________________________________________________\n",
      "dropout_2 (Dropout)          (None, 64)                0         \n",
      "_________________________________________________________________\n",
      "dense_4 (Dense)              (None, 3)                 195       \n",
      "=================================================================\n",
      "Total params: 515\n",
      "Trainable params: 515\n",
      "Non-trainable params: 0\n",
      "_________________________________________________________________\n"
     ]
    }
   ],
   "source": [
    " model.summary()"
   ]
  },
  {
   "cell_type": "code",
   "execution_count": 25,
   "metadata": {},
   "outputs": [],
   "source": [
    "model.compile(optimizer=SGD(lr=0.1), loss='categorical_crossentropy', metrics=['accuracy'])"
   ]
  },
  {
   "cell_type": "code",
   "execution_count": 38,
   "metadata": {},
   "outputs": [],
   "source": [
    "#variables and constants to the model training\n",
    "callbacks_list = []\n",
    "path_to_save_model = \"model/best_model.h5\"\n",
    "\n"
   ]
  },
  {
   "cell_type": "markdown",
   "metadata": {},
   "source": [
    "### Callbacks"
   ]
  },
  {
   "cell_type": "code",
   "execution_count": 39,
   "metadata": {},
   "outputs": [],
   "source": [
    "#model checkpoint to save just the best model with the lowest loss\n",
    "model_checkpoint = ModelCheckpoint(path_to_save_model,\n",
    "                                   monitor='val_loss',\n",
    "                                   verbose=2,\n",
    "                                   save_best_only=True,\n",
    "                                   save_weights_only=False,\n",
    "                                   mode='auto',\n",
    "                                   period=1)\n",
    "\n",
    "callbacks_list.append(model_checkpoint)"
   ]
  },
  {
   "cell_type": "code",
   "execution_count": 40,
   "metadata": {},
   "outputs": [],
   "source": [
    "early_stop_callback = EarlyStopping(monitor='val_loss',\n",
    "                                    min_delta=0,  \n",
    "                                    patience=10,\n",
    "                                    verbose=2,\n",
    "                                    mode='auto',\n",
    "                                    baseline=None,\n",
    "                                    restore_best_weights=False)\n",
    "\n",
    "callbacks_list.append(early_stop_callback)"
   ]
  },
  {
   "cell_type": "code",
   "execution_count": 42,
   "metadata": {},
   "outputs": [
    {
     "name": "stdout",
     "output_type": "stream",
     "text": [
      "Train on 120 samples, validate on 15 samples\n",
      "Epoch 1/100\n",
      " - 0s - loss: 0.1395 - acc: 0.9417 - val_loss: 0.0851 - val_acc: 1.0000\n",
      "\n",
      "Epoch 00001: val_loss did not improve from 0.06479\n",
      "Epoch 2/100\n",
      " - 0s - loss: 0.1451 - acc: 0.9500 - val_loss: 0.0962 - val_acc: 0.9333\n",
      "\n",
      "Epoch 00002: val_loss did not improve from 0.06479\n",
      "Epoch 3/100\n",
      " - 0s - loss: 0.1213 - acc: 0.9750 - val_loss: 0.0889 - val_acc: 1.0000\n",
      "\n",
      "Epoch 00003: val_loss did not improve from 0.06479\n",
      "Epoch 4/100\n",
      " - 0s - loss: 0.0978 - acc: 0.9750 - val_loss: 0.0596 - val_acc: 1.0000\n",
      "\n",
      "Epoch 00004: val_loss improved from 0.06479 to 0.05959, saving model to model/best_model.h5\n",
      "Epoch 5/100\n",
      " - 0s - loss: 0.0938 - acc: 0.9750 - val_loss: 0.0591 - val_acc: 1.0000\n",
      "\n",
      "Epoch 00005: val_loss improved from 0.05959 to 0.05907, saving model to model/best_model.h5\n",
      "Epoch 6/100\n",
      " - 0s - loss: 0.1147 - acc: 0.9750 - val_loss: 0.0849 - val_acc: 1.0000\n",
      "\n",
      "Epoch 00006: val_loss did not improve from 0.05907\n",
      "Epoch 7/100\n",
      " - 0s - loss: 0.1270 - acc: 0.9417 - val_loss: 0.0568 - val_acc: 1.0000\n",
      "\n",
      "Epoch 00007: val_loss improved from 0.05907 to 0.05675, saving model to model/best_model.h5\n",
      "Epoch 8/100\n",
      " - 0s - loss: 0.1189 - acc: 0.9583 - val_loss: 0.0785 - val_acc: 1.0000\n",
      "\n",
      "Epoch 00008: val_loss did not improve from 0.05675\n",
      "Epoch 9/100\n",
      " - 0s - loss: 0.1395 - acc: 0.9333 - val_loss: 0.0566 - val_acc: 1.0000\n",
      "\n",
      "Epoch 00009: val_loss improved from 0.05675 to 0.05657, saving model to model/best_model.h5\n",
      "Epoch 10/100\n",
      " - 0s - loss: 0.1869 - acc: 0.9167 - val_loss: 0.0750 - val_acc: 1.0000\n",
      "\n",
      "Epoch 00010: val_loss did not improve from 0.05657\n",
      "Epoch 11/100\n",
      " - 0s - loss: 0.1454 - acc: 0.9583 - val_loss: 0.0902 - val_acc: 1.0000\n",
      "\n",
      "Epoch 00011: val_loss did not improve from 0.05657\n",
      "Epoch 12/100\n",
      " - 0s - loss: 0.1328 - acc: 0.9417 - val_loss: 0.0790 - val_acc: 1.0000\n",
      "\n",
      "Epoch 00012: val_loss did not improve from 0.05657\n",
      "Epoch 13/100\n",
      " - 0s - loss: 0.1122 - acc: 0.9583 - val_loss: 0.0656 - val_acc: 1.0000\n",
      "\n",
      "Epoch 00013: val_loss did not improve from 0.05657\n",
      "Epoch 14/100\n",
      " - 0s - loss: 0.1418 - acc: 0.9333 - val_loss: 0.0697 - val_acc: 1.0000\n",
      "\n",
      "Epoch 00014: val_loss did not improve from 0.05657\n",
      "Epoch 15/100\n",
      " - 0s - loss: 0.1164 - acc: 0.9750 - val_loss: 0.0775 - val_acc: 1.0000\n",
      "\n",
      "Epoch 00015: val_loss did not improve from 0.05657\n",
      "Epoch 16/100\n",
      " - 0s - loss: 0.1362 - acc: 0.9417 - val_loss: 0.0740 - val_acc: 1.0000\n",
      "\n",
      "Epoch 00016: val_loss did not improve from 0.05657\n",
      "Epoch 17/100\n",
      " - 0s - loss: 0.0870 - acc: 0.9667 - val_loss: 0.0807 - val_acc: 1.0000\n",
      "\n",
      "Epoch 00017: val_loss did not improve from 0.05657\n",
      "Epoch 18/100\n",
      " - 0s - loss: 0.1153 - acc: 0.9750 - val_loss: 0.0906 - val_acc: 1.0000\n",
      "\n",
      "Epoch 00018: val_loss did not improve from 0.05657\n",
      "Epoch 19/100\n",
      " - 0s - loss: 0.1126 - acc: 0.9583 - val_loss: 0.0866 - val_acc: 1.0000\n",
      "\n",
      "Epoch 00019: val_loss did not improve from 0.05657\n",
      "Epoch 00019: early stopping\n"
     ]
    }
   ],
   "source": [
    "history = model.fit(train_features,\n",
    "                    train_targets,\n",
    "                    batch_size=32,\n",
    "                    epochs=100,\n",
    "                    verbose=2,\n",
    "                    callbacks = callbacks_list,\n",
    "                    validation_data=(val_features, val_targets))"
   ]
  },
  {
   "cell_type": "markdown",
   "metadata": {},
   "source": [
    "### Test saved model"
   ]
  },
  {
   "cell_type": "code",
   "execution_count": 44,
   "metadata": {},
   "outputs": [],
   "source": [
    "model = load_model(path_to_save_model)"
   ]
  },
  {
   "cell_type": "code",
   "execution_count": 45,
   "metadata": {},
   "outputs": [
    {
     "name": "stdout",
     "output_type": "stream",
     "text": [
      "\r",
      "15/15 [==============================] - 0s 4ms/step\n"
     ]
    }
   ],
   "source": [
    "_, accuracy = model.evaluate(test_features, test_targets)"
   ]
  },
  {
   "cell_type": "code",
   "execution_count": 59,
   "metadata": {},
   "outputs": [],
   "source": [
    "predictions = model.predict(test_features)"
   ]
  },
  {
   "cell_type": "code",
   "execution_count": 46,
   "metadata": {},
   "outputs": [
    {
     "name": "stdout",
     "output_type": "stream",
     "text": [
      "Accuracy: 93.33\n"
     ]
    }
   ],
   "source": [
    "print('Accuracy: %.2f' % (accuracy*100))\n"
   ]
  },
  {
   "cell_type": "markdown",
   "metadata": {},
   "source": [
    "### Confusion Matrix"
   ]
  },
  {
   "cell_type": "code",
   "execution_count": 62,
   "metadata": {},
   "outputs": [
    {
     "data": {
      "text/plain": [
       "array([[5, 0, 0],\n",
       "       [0, 5, 1],\n",
       "       [0, 0, 4]])"
      ]
     },
     "execution_count": 62,
     "metadata": {},
     "output_type": "execute_result"
    }
   ],
   "source": [
    "confusion_matrix(test_targets.argmax(axis=1), predictions.argmax(axis=1))"
   ]
  },
  {
   "cell_type": "code",
   "execution_count": null,
   "metadata": {},
   "outputs": [],
   "source": []
  },
  {
   "cell_type": "code",
   "execution_count": null,
   "metadata": {},
   "outputs": [],
   "source": []
  },
  {
   "cell_type": "markdown",
   "metadata": {},
   "source": [
    "### Accuracy and Loss plot"
   ]
  },
  {
   "cell_type": "code",
   "execution_count": 56,
   "metadata": {},
   "outputs": [
    {
     "data": {
      "image/png": "[encoded data removed]",
      "text/plain": [
       "<Figure size 432x288 with 1 Axes>"
      ]
     },
     "metadata": {
      "needs_background": "light"
     },
     "output_type": "display_data"
    }
   ],
   "source": [
    "plt.figure()\n",
    "plt.plot(history.history['acc'])\n",
    "plt.plot(history.history['val_acc'], 'g')\n",
    "plt.title('model accuracy')\n",
    "plt.ylabel('accuracy')\n",
    "plt.xlabel('epoch')\n",
    "plt.legend(['train', 'test'], loc='upper left')\n",
    "plt.savefig('accurary_1.png')"
   ]
  },
  {
   "cell_type": "code",
   "execution_count": 58,
   "metadata": {},
   "outputs": [
    {
     "data": {
      "image/png": "[encoded data removed]",
      "text/plain": [
       "<Figure size 432x288 with 1 Axes>"
      ]
     },
     "metadata": {
      "needs_background": "light"
     },
     "output_type": "display_data"
    }
   ],
   "source": [
    "plt.figure()\n",
    "plt.plot(history.history['loss'])\n",
    "plt.plot(history.history['val_loss'], 'g')\n",
    "plt.title('model loss')\n",
    "plt.ylabel('loss')\n",
    "plt.xlabel('epoch')\n",
    "plt.legend(['train', 'test'], loc='upper left')\n",
    "plt.savefig('model_loss_1.png')"
   ]
  },
  {
   "cell_type": "code",
   "execution_count": null,
   "metadata": {},
   "outputs": [],
   "source": []
  }
 ],
 "metadata": {
  "kernelspec": {
   "display_name": "Python 3",
   "language": "python",
   "name": "python3"
  },
  "language_info": {
   "codemirror_mode": {
    "name": "ipython",
    "version": 3
   },
   "file_extension": ".py",
   "mimetype": "text/x-python",
   "name": "python",
   "nbconvert_exporter": "python",
   "pygments_lexer": "ipython3",
   "version": "3.6.5"
  }
 },
 "nbformat": 4,
 "nbformat_minor": 2
}
