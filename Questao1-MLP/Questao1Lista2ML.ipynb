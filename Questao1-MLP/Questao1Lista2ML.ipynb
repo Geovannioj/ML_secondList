{
 "cells": [
  {
   "cell_type": "code",
   "execution_count": 1,
   "metadata": {},
   "outputs": [
    {
     "name": "stderr",
     "output_type": "stream",
     "text": [
      "Using TensorFlow backend.\n"
     ]
    }
   ],
   "source": [
    "import numpy as np\n",
    "import keras\n",
    "import pandas as pd\n",
    "import cv2\n",
    "import matplotlib.pyplot as plt\n",
    "from sklearn.model_selection import train_test_split\n",
    "from sklearn.datasets import load_iris\n",
    "from sklearn.metrics import confusion_matrix\n",
    "from sklearn.metrics import classification_report\n",
    "from keras.models import Sequential\n",
    "from keras.optimizers import SGD\n",
    "from keras.layers import Dense, Dropout, Activation\n",
    "from keras.callbacks import EarlyStopping, ModelCheckpoint\n",
    "from keras.models import load_model"
   ]
  },
  {
   "cell_type": "markdown",
   "metadata": {},
   "source": [
    "# Iris dataset"
   ]
  },
  {
   "cell_type": "markdown",
   "metadata": {},
   "source": [
    "### Dataset load and setting"
   ]
  },
  {
   "cell_type": "code",
   "execution_count": 2,
   "metadata": {},
   "outputs": [],
   "source": [
    "# create object of class 'load_iris'\n",
    "iris = load_iris()"
   ]
  },
  {
   "cell_type": "code",
   "execution_count": 41,
   "metadata": {},
   "outputs": [],
   "source": [
    "# save features and targets from the 'iris'\n",
    "features, targets = iris.data, iris.target\n"
   ]
  },
  {
   "cell_type": "code",
   "execution_count": null,
   "metadata": {},
   "outputs": [],
   "source": []
  },
  {
   "cell_type": "markdown",
   "metadata": {},
   "source": [
    "### Dataset Split into:\n",
    "Train, test and validation"
   ]
  },
  {
   "cell_type": "code",
   "execution_count": 42,
   "metadata": {},
   "outputs": [],
   "source": [
    "# Split: train_size=0.8 and test_size=0.2\n",
    "# in a second split the test size will be split into two. \n",
    "# It will be 0.1 to test set  and 0.1 to validation set  \n",
    "train_features, test_features, train_targets, test_targets = train_test_split(\n",
    "        features, targets,\n",
    "        train_size=0.8,\n",
    "        test_size=0.2,\n",
    "        random_state=23,\n",
    "        stratify=targets\n",
    "    )"
   ]
  },
  {
   "cell_type": "code",
   "execution_count": 43,
   "metadata": {},
   "outputs": [],
   "source": [
    " class_number = len(np.unique(targets))"
   ]
  },
  {
   "cell_type": "code",
   "execution_count": 44,
   "metadata": {},
   "outputs": [
    {
     "data": {
      "text/plain": [
       "3"
      ]
     },
     "execution_count": 44,
     "metadata": {},
     "output_type": "execute_result"
    }
   ],
   "source": [
    "# amount of classes to the problem\n",
    "class_number"
   ]
  },
  {
   "cell_type": "code",
   "execution_count": 45,
   "metadata": {},
   "outputs": [
    {
     "data": {
      "text/plain": [
       "(30, 4)"
      ]
     },
     "execution_count": 45,
     "metadata": {},
     "output_type": "execute_result"
    }
   ],
   "source": [
    "test_features.shape"
   ]
  },
  {
   "cell_type": "code",
   "execution_count": 46,
   "metadata": {},
   "outputs": [
    {
     "data": {
      "text/plain": [
       "(120, 4)"
      ]
     },
     "execution_count": 46,
     "metadata": {},
     "output_type": "execute_result"
    }
   ],
   "source": [
    "train_features.shape"
   ]
  },
  {
   "cell_type": "markdown",
   "metadata": {},
   "source": [
    "## Amount of half of the test's first split"
   ]
  },
  {
   "cell_type": "code",
   "execution_count": 47,
   "metadata": {},
   "outputs": [],
   "source": [
    "half_test_samples = int((len(test_features))/2)"
   ]
  },
  {
   "cell_type": "markdown",
   "metadata": {},
   "source": [
    "### Split of the test set into half"
   ]
  },
  {
   "cell_type": "code",
   "execution_count": 48,
   "metadata": {},
   "outputs": [],
   "source": [
    "val_features = test_features[:half_test_samples]"
   ]
  },
  {
   "cell_type": "code",
   "execution_count": 49,
   "metadata": {},
   "outputs": [
    {
     "data": {
      "text/plain": [
       "(15, 4)"
      ]
     },
     "execution_count": 49,
     "metadata": {},
     "output_type": "execute_result"
    }
   ],
   "source": [
    "val_features.shape"
   ]
  },
  {
   "cell_type": "code",
   "execution_count": 50,
   "metadata": {},
   "outputs": [],
   "source": [
    "val_targets = test_targets[:half_test_samples]"
   ]
  },
  {
   "cell_type": "markdown",
   "metadata": {},
   "source": [
    "### Test set now is it's half size"
   ]
  },
  {
   "cell_type": "code",
   "execution_count": 51,
   "metadata": {},
   "outputs": [],
   "source": [
    "test_features = test_features[half_test_samples:]"
   ]
  },
  {
   "cell_type": "code",
   "execution_count": 52,
   "metadata": {},
   "outputs": [
    {
     "data": {
      "text/plain": [
       "(15, 4)"
      ]
     },
     "execution_count": 52,
     "metadata": {},
     "output_type": "execute_result"
    }
   ],
   "source": [
    "test_features.shape"
   ]
  },
  {
   "cell_type": "code",
   "execution_count": 53,
   "metadata": {},
   "outputs": [],
   "source": [
    "test_targets = test_targets[half_test_samples:]"
   ]
  },
  {
   "cell_type": "code",
   "execution_count": 54,
   "metadata": {},
   "outputs": [
    {
     "data": {
      "text/plain": [
       "array([1, 2, 1, 1, 2, 0, 2, 2, 0, 0, 0, 0, 1, 1, 1])"
      ]
     },
     "execution_count": 54,
     "metadata": {},
     "output_type": "execute_result"
    }
   ],
   "source": [
    "test_targets"
   ]
  },
  {
   "cell_type": "code",
   "execution_count": 57,
   "metadata": {},
   "outputs": [],
   "source": [
    "test_targets_metrics = test_targets"
   ]
  },
  {
   "cell_type": "markdown",
   "metadata": {},
   "source": [
    "## Model Creation"
   ]
  },
  {
   "cell_type": "code",
   "execution_count": 108,
   "metadata": {},
   "outputs": [],
   "source": [
    "def create_MLP_model(classes_number):\n",
    "    \"\"\"\n",
    "    Function to create a MLP model\n",
    "    classes_number: Number of classes to be classified\n",
    "    \n",
    "    return model - model to be used in the training stage\n",
    "    \"\"\"\n",
    "    input_dim = 4\n",
    "    model = Sequential()\n",
    "    model.add(Dense(64, input_dim=4, activation='sigmoid'))\n",
    "    model.add(Dropout(0.5))\n",
    "    model.add(Dense(3, activation='softmax'))\n",
    "\n",
    "    return model"
   ]
  },
  {
   "cell_type": "markdown",
   "metadata": {},
   "source": [
    "## Encoding classes"
   ]
  },
  {
   "cell_type": "code",
   "execution_count": 59,
   "metadata": {},
   "outputs": [],
   "source": [
    "train_targets = keras.utils.np_utils.to_categorical(train_targets, class_number)\n",
    "test_targets = keras.utils.np_utils.to_categorical(test_targets, class_number)\n",
    "val_targets = keras.utils.np_utils.to_categorical(val_targets, class_number)"
   ]
  },
  {
   "cell_type": "code",
   "execution_count": null,
   "metadata": {},
   "outputs": [],
   "source": []
  },
  {
   "cell_type": "markdown",
   "metadata": {},
   "source": [
    "### Model compilation"
   ]
  },
  {
   "cell_type": "code",
   "execution_count": 60,
   "metadata": {},
   "outputs": [],
   "source": [
    "model = create_MLP_model(class_number)"
   ]
  },
  {
   "cell_type": "code",
   "execution_count": 61,
   "metadata": {},
   "outputs": [
    {
     "name": "stdout",
     "output_type": "stream",
     "text": [
      "_________________________________________________________________\n",
      "Layer (type)                 Output Shape              Param #   \n",
      "=================================================================\n",
      "dense_3 (Dense)              (None, 64)                320       \n",
      "_________________________________________________________________\n",
      "dropout_2 (Dropout)          (None, 64)                0         \n",
      "_________________________________________________________________\n",
      "dense_4 (Dense)              (None, 3)                 195       \n",
      "=================================================================\n",
      "Total params: 515\n",
      "Trainable params: 515\n",
      "Non-trainable params: 0\n",
      "_________________________________________________________________\n"
     ]
    }
   ],
   "source": [
    " model.summary()"
   ]
  },
  {
   "cell_type": "code",
   "execution_count": 62,
   "metadata": {},
   "outputs": [],
   "source": [
    "model.compile(optimizer=SGD(lr=0.1),\n",
    "              loss='categorical_crossentropy',\n",
    "              metrics=['accuracy'])\n"
   ]
  },
  {
   "cell_type": "code",
   "execution_count": 63,
   "metadata": {},
   "outputs": [],
   "source": [
    "#variables and constants to the model training\n",
    "callbacks_list = []\n",
    "path_to_save_model = \"model/best_model.h5\"\n",
    "\n"
   ]
  },
  {
   "cell_type": "markdown",
   "metadata": {},
   "source": [
    "### Callbacks"
   ]
  },
  {
   "cell_type": "code",
   "execution_count": 64,
   "metadata": {},
   "outputs": [],
   "source": [
    "#model checkpoint to save just the best model with the lowest loss\n",
    "model_checkpoint = ModelCheckpoint(path_to_save_model,\n",
    "                                   monitor='val_loss',\n",
    "                                   verbose=2,\n",
    "                                   save_best_only=True,\n",
    "                                   save_weights_only=False,\n",
    "                                   mode='auto',\n",
    "                                   period=1)\n",
    "\n",
    "callbacks_list.append(model_checkpoint)"
   ]
  },
  {
   "cell_type": "code",
   "execution_count": 65,
   "metadata": {},
   "outputs": [],
   "source": [
    "early_stop_callback = EarlyStopping(monitor='val_loss',\n",
    "                                    min_delta=0,  \n",
    "                                    patience=10,\n",
    "                                    verbose=2,\n",
    "                                    mode='auto',\n",
    "                                    baseline=None,\n",
    "                                    restore_best_weights=False)\n",
    "\n",
    "callbacks_list.append(early_stop_callback)"
   ]
  },
  {
   "cell_type": "code",
   "execution_count": null,
   "metadata": {},
   "outputs": [],
   "source": [
    "\n"
   ]
  },
  {
   "cell_type": "code",
   "execution_count": 78,
   "metadata": {},
   "outputs": [
    {
     "name": "stdout",
     "output_type": "stream",
     "text": [
      "Train on 120 samples, validate on 15 samples\n",
      "Epoch 1/300\n",
      " - 0s - loss: 0.3775 - acc: 0.8583 - val_loss: 0.3157 - val_acc: 0.9333\n",
      "\n",
      "Epoch 00001: val_loss did not improve from 0.27497\n",
      "Epoch 2/300\n",
      " - 0s - loss: 0.3730 - acc: 0.8417 - val_loss: 0.3003 - val_acc: 0.9333\n",
      "\n",
      "Epoch 00002: val_loss did not improve from 0.27497\n",
      "Epoch 3/300\n",
      " - 0s - loss: 0.3627 - acc: 0.9083 - val_loss: 0.2683 - val_acc: 1.0000\n",
      "\n",
      "Epoch 00003: val_loss improved from 0.27497 to 0.26833, saving model to model/best_model.h5\n",
      "Epoch 4/300\n",
      " - 0s - loss: 0.3436 - acc: 0.8917 - val_loss: 0.2927 - val_acc: 0.9333\n",
      "\n",
      "Epoch 00004: val_loss did not improve from 0.26833\n",
      "Epoch 5/300\n",
      " - 0s - loss: 0.3554 - acc: 0.8833 - val_loss: 0.3011 - val_acc: 0.9333\n",
      "\n",
      "Epoch 00005: val_loss did not improve from 0.26833\n",
      "Epoch 6/300\n",
      " - 0s - loss: 0.3455 - acc: 0.9083 - val_loss: 0.2660 - val_acc: 1.0000\n",
      "\n",
      "Epoch 00006: val_loss improved from 0.26833 to 0.26597, saving model to model/best_model.h5\n",
      "Epoch 7/300\n",
      " - 0s - loss: 0.3269 - acc: 0.8417 - val_loss: 0.2831 - val_acc: 0.9333\n",
      "\n",
      "Epoch 00007: val_loss did not improve from 0.26597\n",
      "Epoch 8/300\n",
      " - 0s - loss: 0.3518 - acc: 0.8417 - val_loss: 0.2793 - val_acc: 0.9333\n",
      "\n",
      "Epoch 00008: val_loss did not improve from 0.26597\n",
      "Epoch 9/300\n",
      " - 0s - loss: 0.3505 - acc: 0.8333 - val_loss: 0.2613 - val_acc: 1.0000\n",
      "\n",
      "Epoch 00009: val_loss improved from 0.26597 to 0.26135, saving model to model/best_model.h5\n",
      "Epoch 10/300\n",
      " - 0s - loss: 0.3651 - acc: 0.8583 - val_loss: 0.2907 - val_acc: 0.9333\n",
      "\n",
      "Epoch 00010: val_loss did not improve from 0.26135\n",
      "Epoch 11/300\n",
      " - 0s - loss: 0.3312 - acc: 0.8917 - val_loss: 0.2692 - val_acc: 0.9333\n",
      "\n",
      "Epoch 00011: val_loss did not improve from 0.26135\n",
      "Epoch 12/300\n",
      " - 0s - loss: 0.3099 - acc: 0.9167 - val_loss: 0.2746 - val_acc: 0.9333\n",
      "\n",
      "Epoch 00012: val_loss did not improve from 0.26135\n",
      "Epoch 13/300\n",
      " - 0s - loss: 0.3632 - acc: 0.8000 - val_loss: 0.2491 - val_acc: 1.0000\n",
      "\n",
      "Epoch 00013: val_loss improved from 0.26135 to 0.24907, saving model to model/best_model.h5\n",
      "Epoch 14/300\n",
      " - 0s - loss: 0.3129 - acc: 0.9250 - val_loss: 0.2980 - val_acc: 0.9333\n",
      "\n",
      "Epoch 00014: val_loss did not improve from 0.24907\n",
      "Epoch 15/300\n",
      " - 0s - loss: 0.3151 - acc: 0.9083 - val_loss: 0.2478 - val_acc: 1.0000\n",
      "\n",
      "Epoch 00015: val_loss improved from 0.24907 to 0.24778, saving model to model/best_model.h5\n",
      "Epoch 16/300\n",
      " - 0s - loss: 0.3410 - acc: 0.8667 - val_loss: 0.2611 - val_acc: 0.9333\n",
      "\n",
      "Epoch 00016: val_loss did not improve from 0.24778\n",
      "Epoch 17/300\n",
      " - 0s - loss: 0.3157 - acc: 0.9000 - val_loss: 0.2508 - val_acc: 1.0000\n",
      "\n",
      "Epoch 00017: val_loss did not improve from 0.24778\n",
      "Epoch 18/300\n",
      " - 0s - loss: 0.3115 - acc: 0.8583 - val_loss: 0.2549 - val_acc: 0.9333\n",
      "\n",
      "Epoch 00018: val_loss did not improve from 0.24778\n",
      "Epoch 19/300\n",
      " - 0s - loss: 0.3020 - acc: 0.9000 - val_loss: 0.2417 - val_acc: 1.0000\n",
      "\n",
      "Epoch 00019: val_loss improved from 0.24778 to 0.24175, saving model to model/best_model.h5\n",
      "Epoch 20/300\n",
      " - 0s - loss: 0.3483 - acc: 0.8417 - val_loss: 0.2479 - val_acc: 0.9333\n",
      "\n",
      "Epoch 00020: val_loss did not improve from 0.24175\n",
      "Epoch 21/300\n",
      " - 0s - loss: 0.3061 - acc: 0.9083 - val_loss: 0.2298 - val_acc: 1.0000\n",
      "\n",
      "Epoch 00021: val_loss improved from 0.24175 to 0.22982, saving model to model/best_model.h5\n",
      "Epoch 22/300\n",
      " - 0s - loss: 0.2954 - acc: 0.8833 - val_loss: 0.2379 - val_acc: 1.0000\n",
      "\n",
      "Epoch 00022: val_loss did not improve from 0.22982\n",
      "Epoch 23/300\n",
      " - 0s - loss: 0.2665 - acc: 0.9083 - val_loss: 0.2383 - val_acc: 0.9333\n",
      "\n",
      "Epoch 00023: val_loss did not improve from 0.22982\n",
      "Epoch 24/300\n",
      " - 0s - loss: 0.3108 - acc: 0.8750 - val_loss: 0.2424 - val_acc: 0.9333\n",
      "\n",
      "Epoch 00024: val_loss did not improve from 0.22982\n",
      "Epoch 25/300\n",
      " - 0s - loss: 0.3117 - acc: 0.8833 - val_loss: 0.2255 - val_acc: 1.0000\n",
      "\n",
      "Epoch 00025: val_loss improved from 0.22982 to 0.22550, saving model to model/best_model.h5\n",
      "Epoch 26/300\n",
      " - 0s - loss: 0.3232 - acc: 0.8750 - val_loss: 0.2594 - val_acc: 0.9333\n",
      "\n",
      "Epoch 00026: val_loss did not improve from 0.22550\n",
      "Epoch 27/300\n",
      " - 0s - loss: 0.3218 - acc: 0.8750 - val_loss: 0.2517 - val_acc: 0.9333\n",
      "\n",
      "Epoch 00027: val_loss did not improve from 0.22550\n",
      "Epoch 28/300\n",
      " - 0s - loss: 0.3254 - acc: 0.8833 - val_loss: 0.2399 - val_acc: 0.9333\n",
      "\n",
      "Epoch 00028: val_loss did not improve from 0.22550\n",
      "Epoch 29/300\n",
      " - 0s - loss: 0.2923 - acc: 0.9000 - val_loss: 0.2299 - val_acc: 0.9333\n",
      "\n",
      "Epoch 00029: val_loss did not improve from 0.22550\n",
      "Epoch 30/300\n",
      " - 0s - loss: 0.3336 - acc: 0.8750 - val_loss: 0.2243 - val_acc: 1.0000\n",
      "\n",
      "Epoch 00030: val_loss improved from 0.22550 to 0.22431, saving model to model/best_model.h5\n",
      "Epoch 31/300\n",
      " - 0s - loss: 0.2891 - acc: 0.9167 - val_loss: 0.2274 - val_acc: 1.0000\n",
      "\n",
      "Epoch 00031: val_loss did not improve from 0.22431\n",
      "Epoch 32/300\n",
      " - 0s - loss: 0.3372 - acc: 0.8583 - val_loss: 0.2291 - val_acc: 0.9333\n",
      "\n",
      "Epoch 00032: val_loss did not improve from 0.22431\n",
      "Epoch 33/300\n",
      " - 0s - loss: 0.2997 - acc: 0.8750 - val_loss: 0.2184 - val_acc: 1.0000\n",
      "\n",
      "Epoch 00033: val_loss improved from 0.22431 to 0.21836, saving model to model/best_model.h5\n",
      "Epoch 34/300\n",
      " - 0s - loss: 0.2964 - acc: 0.9083 - val_loss: 0.2360 - val_acc: 0.9333\n",
      "\n",
      "Epoch 00034: val_loss did not improve from 0.21836\n",
      "Epoch 35/300\n",
      " - 0s - loss: 0.2643 - acc: 0.9250 - val_loss: 0.2132 - val_acc: 1.0000\n",
      "\n",
      "Epoch 00035: val_loss improved from 0.21836 to 0.21317, saving model to model/best_model.h5\n",
      "Epoch 36/300\n",
      " - 0s - loss: 0.2881 - acc: 0.8667 - val_loss: 0.2032 - val_acc: 1.0000\n",
      "\n",
      "Epoch 00036: val_loss improved from 0.21317 to 0.20318, saving model to model/best_model.h5\n",
      "Epoch 37/300\n",
      " - 0s - loss: 0.2801 - acc: 0.8667 - val_loss: 0.2203 - val_acc: 0.9333\n",
      "\n",
      "Epoch 00037: val_loss did not improve from 0.20318\n",
      "Epoch 38/300\n",
      " - 0s - loss: 0.3026 - acc: 0.8750 - val_loss: 0.1994 - val_acc: 1.0000\n",
      "\n",
      "Epoch 00038: val_loss improved from 0.20318 to 0.19937, saving model to model/best_model.h5\n",
      "Epoch 39/300\n",
      " - 0s - loss: 0.2994 - acc: 0.9083 - val_loss: 0.2380 - val_acc: 0.9333\n",
      "\n",
      "Epoch 00039: val_loss did not improve from 0.19937\n",
      "Epoch 40/300\n",
      " - 0s - loss: 0.2641 - acc: 0.9500 - val_loss: 0.2052 - val_acc: 1.0000\n",
      "\n",
      "Epoch 00040: val_loss did not improve from 0.19937\n",
      "Epoch 41/300\n",
      " - 0s - loss: 0.2993 - acc: 0.8917 - val_loss: 0.1940 - val_acc: 1.0000\n",
      "\n",
      "Epoch 00041: val_loss improved from 0.19937 to 0.19399, saving model to model/best_model.h5\n",
      "Epoch 42/300\n",
      " - 0s - loss: 0.2822 - acc: 0.9083 - val_loss: 0.2016 - val_acc: 1.0000\n",
      "\n",
      "Epoch 00042: val_loss did not improve from 0.19399\n",
      "Epoch 43/300\n",
      " - 0s - loss: 0.2665 - acc: 0.9167 - val_loss: 0.2047 - val_acc: 1.0000\n",
      "\n",
      "Epoch 00043: val_loss did not improve from 0.19399\n",
      "Epoch 44/300\n",
      " - 0s - loss: 0.2952 - acc: 0.8917 - val_loss: 0.1959 - val_acc: 1.0000\n",
      "\n",
      "Epoch 00044: val_loss did not improve from 0.19399\n",
      "Epoch 45/300\n",
      " - 0s - loss: 0.2591 - acc: 0.9250 - val_loss: 0.1950 - val_acc: 1.0000\n",
      "\n",
      "Epoch 00045: val_loss did not improve from 0.19399\n",
      "Epoch 46/300\n",
      " - 0s - loss: 0.2827 - acc: 0.9083 - val_loss: 0.2221 - val_acc: 0.9333\n",
      "\n",
      "Epoch 00046: val_loss did not improve from 0.19399\n",
      "Epoch 47/300\n",
      " - 0s - loss: 0.2329 - acc: 0.9250 - val_loss: 0.1873 - val_acc: 1.0000\n",
      "\n",
      "Epoch 00047: val_loss improved from 0.19399 to 0.18731, saving model to model/best_model.h5\n",
      "Epoch 48/300\n",
      " - 0s - loss: 0.3092 - acc: 0.8833 - val_loss: 0.1950 - val_acc: 1.0000\n",
      "\n",
      "Epoch 00048: val_loss did not improve from 0.18731\n",
      "Epoch 49/300\n",
      " - 0s - loss: 0.2929 - acc: 0.8667 - val_loss: 0.1997 - val_acc: 0.9333\n",
      "\n",
      "Epoch 00049: val_loss did not improve from 0.18731\n",
      "Epoch 50/300\n",
      " - 0s - loss: 0.2665 - acc: 0.9250 - val_loss: 0.2796 - val_acc: 0.9333\n",
      "\n",
      "Epoch 00050: val_loss did not improve from 0.18731\n",
      "Epoch 51/300\n",
      " - 0s - loss: 0.2772 - acc: 0.9167 - val_loss: 0.1836 - val_acc: 1.0000\n",
      "\n",
      "Epoch 00051: val_loss improved from 0.18731 to 0.18364, saving model to model/best_model.h5\n",
      "Epoch 52/300\n",
      " - 0s - loss: 0.3146 - acc: 0.8667 - val_loss: 0.2172 - val_acc: 0.9333\n",
      "\n",
      "Epoch 00052: val_loss did not improve from 0.18364\n",
      "Epoch 53/300\n",
      " - 0s - loss: 0.2217 - acc: 0.9667 - val_loss: 0.1946 - val_acc: 1.0000\n",
      "\n",
      "Epoch 00053: val_loss did not improve from 0.18364\n",
      "Epoch 54/300\n",
      " - 0s - loss: 0.3060 - acc: 0.8667 - val_loss: 0.2576 - val_acc: 0.9333\n",
      "\n",
      "Epoch 00054: val_loss did not improve from 0.18364\n",
      "Epoch 55/300\n",
      " - 0s - loss: 0.2961 - acc: 0.8750 - val_loss: 0.2182 - val_acc: 0.9333\n",
      "\n",
      "Epoch 00055: val_loss did not improve from 0.18364\n",
      "Epoch 56/300\n"
     ]
    },
    {
     "name": "stdout",
     "output_type": "stream",
     "text": [
      " - 0s - loss: 0.3061 - acc: 0.8667 - val_loss: 0.2097 - val_acc: 0.9333\n",
      "\n",
      "Epoch 00056: val_loss did not improve from 0.18364\n",
      "Epoch 57/300\n",
      " - 0s - loss: 0.3033 - acc: 0.9000 - val_loss: 0.2185 - val_acc: 0.9333\n",
      "\n",
      "Epoch 00057: val_loss did not improve from 0.18364\n",
      "Epoch 58/300\n",
      " - 0s - loss: 0.2837 - acc: 0.8750 - val_loss: 0.1937 - val_acc: 1.0000\n",
      "\n",
      "Epoch 00058: val_loss did not improve from 0.18364\n",
      "Epoch 59/300\n",
      " - 0s - loss: 0.2522 - acc: 0.9417 - val_loss: 0.1825 - val_acc: 1.0000\n",
      "\n",
      "Epoch 00059: val_loss improved from 0.18364 to 0.18254, saving model to model/best_model.h5\n",
      "Epoch 60/300\n",
      " - 0s - loss: 0.2531 - acc: 0.9333 - val_loss: 0.1855 - val_acc: 1.0000\n",
      "\n",
      "Epoch 00060: val_loss did not improve from 0.18254\n",
      "Epoch 61/300\n",
      " - 0s - loss: 0.2878 - acc: 0.9000 - val_loss: 0.2010 - val_acc: 0.9333\n",
      "\n",
      "Epoch 00061: val_loss did not improve from 0.18254\n",
      "Epoch 62/300\n",
      " - 0s - loss: 0.2578 - acc: 0.9167 - val_loss: 0.1796 - val_acc: 1.0000\n",
      "\n",
      "Epoch 00062: val_loss improved from 0.18254 to 0.17959, saving model to model/best_model.h5\n",
      "Epoch 63/300\n",
      " - 0s - loss: 0.2653 - acc: 0.8917 - val_loss: 0.1896 - val_acc: 0.9333\n",
      "\n",
      "Epoch 00063: val_loss did not improve from 0.17959\n",
      "Epoch 64/300\n",
      " - 0s - loss: 0.2602 - acc: 0.8750 - val_loss: 0.1829 - val_acc: 1.0000\n",
      "\n",
      "Epoch 00064: val_loss did not improve from 0.17959\n",
      "Epoch 65/300\n",
      " - 0s - loss: 0.3174 - acc: 0.8583 - val_loss: 0.1877 - val_acc: 1.0000\n",
      "\n",
      "Epoch 00065: val_loss did not improve from 0.17959\n",
      "Epoch 66/300\n",
      " - 0s - loss: 0.2462 - acc: 0.9167 - val_loss: 0.2077 - val_acc: 0.9333\n",
      "\n",
      "Epoch 00066: val_loss did not improve from 0.17959\n",
      "Epoch 67/300\n",
      " - 0s - loss: 0.2576 - acc: 0.8833 - val_loss: 0.1808 - val_acc: 1.0000\n",
      "\n",
      "Epoch 00067: val_loss did not improve from 0.17959\n",
      "Epoch 68/300\n",
      " - 0s - loss: 0.2682 - acc: 0.8667 - val_loss: 0.1913 - val_acc: 0.9333\n",
      "\n",
      "Epoch 00068: val_loss did not improve from 0.17959\n",
      "Epoch 69/300\n",
      " - 0s - loss: 0.2727 - acc: 0.8750 - val_loss: 0.1828 - val_acc: 1.0000\n",
      "\n",
      "Epoch 00069: val_loss did not improve from 0.17959\n",
      "Epoch 70/300\n",
      " - 0s - loss: 0.2302 - acc: 0.9167 - val_loss: 0.1963 - val_acc: 0.9333\n",
      "\n",
      "Epoch 00070: val_loss did not improve from 0.17959\n",
      "Epoch 71/300\n",
      " - 0s - loss: 0.2699 - acc: 0.8833 - val_loss: 0.1854 - val_acc: 0.9333\n",
      "\n",
      "Epoch 00071: val_loss did not improve from 0.17959\n",
      "Epoch 72/300\n",
      " - 0s - loss: 0.2341 - acc: 0.9000 - val_loss: 0.2032 - val_acc: 0.9333\n",
      "\n",
      "Epoch 00072: val_loss did not improve from 0.17959\n",
      "Epoch 00072: early stopping\n"
     ]
    }
   ],
   "source": [
    "history = model.fit(train_features,\n",
    "                    train_targets,\n",
    "                    batch_size=32,\n",
    "                    epochs=300,\n",
    "                    verbose=2,\n",
    "                    callbacks = callbacks_list,\n",
    "                    validation_data=(val_features, val_targets))"
   ]
  },
  {
   "cell_type": "markdown",
   "metadata": {},
   "source": [
    "### Test saved model"
   ]
  },
  {
   "cell_type": "code",
   "execution_count": 79,
   "metadata": {},
   "outputs": [],
   "source": [
    "model = load_model(path_to_save_model)"
   ]
  },
  {
   "cell_type": "code",
   "execution_count": 80,
   "metadata": {},
   "outputs": [
    {
     "name": "stdout",
     "output_type": "stream",
     "text": [
      "\r",
      "15/15 [==============================] - 0s 6ms/step\n"
     ]
    }
   ],
   "source": [
    "_, accuracy = model.evaluate(test_features, test_targets)"
   ]
  },
  {
   "cell_type": "code",
   "execution_count": 81,
   "metadata": {},
   "outputs": [],
   "source": [
    "predictions = model.predict(test_features)"
   ]
  },
  {
   "cell_type": "code",
   "execution_count": 82,
   "metadata": {},
   "outputs": [
    {
     "name": "stdout",
     "output_type": "stream",
     "text": [
      "Accuracy: 93.33\n"
     ]
    }
   ],
   "source": [
    "print('Accuracy: %.2f' % (accuracy*100))\n"
   ]
  },
  {
   "cell_type": "markdown",
   "metadata": {},
   "source": [
    "### Confusion Matrix"
   ]
  },
  {
   "cell_type": "code",
   "execution_count": 83,
   "metadata": {},
   "outputs": [
    {
     "data": {
      "text/plain": [
       "array([[5, 0, 0],\n",
       "       [0, 5, 1],\n",
       "       [0, 0, 4]])"
      ]
     },
     "execution_count": 83,
     "metadata": {},
     "output_type": "execute_result"
    }
   ],
   "source": [
    "confusion_matrix(test_targets.argmax(axis=1), predictions.argmax(axis=1))"
   ]
  },
  {
   "cell_type": "markdown",
   "metadata": {},
   "source": [
    "### Other metrics of the model\n",
    "Precision, recall and f1-score"
   ]
  },
  {
   "cell_type": "code",
   "execution_count": 84,
   "metadata": {},
   "outputs": [
    {
     "name": "stdout",
     "output_type": "stream",
     "text": [
      "              precision    recall  f1-score   support\n",
      "\n",
      "           0       1.00      1.00      1.00         5\n",
      "           1       1.00      0.83      0.91         6\n",
      "           2       0.80      1.00      0.89         4\n",
      "\n",
      "   micro avg       0.93      0.93      0.93        15\n",
      "   macro avg       0.93      0.94      0.93        15\n",
      "weighted avg       0.95      0.93      0.93        15\n",
      "\n"
     ]
    }
   ],
   "source": [
    "print(classification_report(test_targets_metrics,predictions.argmax(axis=1)))"
   ]
  },
  {
   "cell_type": "code",
   "execution_count": null,
   "metadata": {},
   "outputs": [],
   "source": []
  },
  {
   "cell_type": "markdown",
   "metadata": {},
   "source": [
    "### Accuracy and Loss plot"
   ]
  },
  {
   "cell_type": "code",
   "execution_count": 76,
   "metadata": {},
   "outputs": [
    {
     "data": {
      "image/png": "[encoded data removed]",
      "text/plain": [
       "<Figure size 432x288 with 1 Axes>"
      ]
     },
     "metadata": {
      "needs_background": "light"
     },
     "output_type": "display_data"
    }
   ],
   "source": [
    "plt.figure()\n",
    "plt.plot(history.history['acc'])\n",
    "plt.plot(history.history['val_acc'], 'g')\n",
    "plt.title('model accuracy')\n",
    "plt.ylabel('accuracy')\n",
    "plt.xlabel('epoch')\n",
    "plt.legend(['train', 'test'], loc='upper left')\n",
    "plt.savefig('accurary_1.png')"
   ]
  },
  {
   "cell_type": "code",
   "execution_count": 77,
   "metadata": {},
   "outputs": [
    {
     "data": {
      "image/png": "[encoded data removed]",
      "text/plain": [
       "<Figure size 432x288 with 1 Axes>"
      ]
     },
     "metadata": {
      "needs_background": "light"
     },
     "output_type": "display_data"
    }
   ],
   "source": [
    "plt.figure()\n",
    "plt.plot(history.history['loss'])\n",
    "plt.plot(history.history['val_loss'], 'g')\n",
    "plt.title('model loss')\n",
    "plt.ylabel('loss')\n",
    "plt.xlabel('epoch')\n",
    "plt.legend(['train', 'test'], loc='upper left')\n",
    "plt.savefig('model_loss_1.png')"
   ]
  },
  {
   "cell_type": "markdown",
   "metadata": {},
   "source": [
    "## Segunda abordagem: mais camadas escondidas no modelo"
   ]
  },
  {
   "cell_type": "code",
   "execution_count": 99,
   "metadata": {},
   "outputs": [],
   "source": [
    "def create_MLP_model(classes_number):\n",
    "    \"\"\"\n",
    "    Function to create a MLP model\n",
    "    classes_number: Number of classes to be classified\n",
    "    \n",
    "    return model - model to be used in the training stage\n",
    "    \"\"\"\n",
    "    input_dim = 4\n",
    "    model = Sequential()\n",
    "    model.add(Dense(64, input_dim=4, activation='sigmoid'))\n",
    "    model.add(Dropout(0.5))\n",
    "    model.add(Dense(64, input_dim=input_dim, activation='sigmoid'))\n",
    "    model.add(Dropout(0.5))\n",
    "    model.add(Dense(64, input_dim=input_dim, activation='sigmoid'))\n",
    "    model.add(Dense(3, activation='softmax'))\n",
    "\n",
    "    return model"
   ]
  },
  {
   "cell_type": "code",
   "execution_count": 100,
   "metadata": {},
   "outputs": [],
   "source": [
    "model2 = create_MLP_model(class_number)"
   ]
  },
  {
   "cell_type": "code",
   "execution_count": 101,
   "metadata": {},
   "outputs": [
    {
     "name": "stdout",
     "output_type": "stream",
     "text": [
      "_________________________________________________________________\n",
      "Layer (type)                 Output Shape              Param #   \n",
      "=================================================================\n",
      "dense_10 (Dense)             (None, 64)                320       \n",
      "_________________________________________________________________\n",
      "dropout_5 (Dropout)          (None, 64)                0         \n",
      "_________________________________________________________________\n",
      "dense_11 (Dense)             (None, 64)                4160      \n",
      "_________________________________________________________________\n",
      "dropout_6 (Dropout)          (None, 64)                0         \n",
      "_________________________________________________________________\n",
      "dense_12 (Dense)             (None, 64)                4160      \n",
      "_________________________________________________________________\n",
      "dense_13 (Dense)             (None, 3)                 195       \n",
      "=================================================================\n",
      "Total params: 8,835\n",
      "Trainable params: 8,835\n",
      "Non-trainable params: 0\n",
      "_________________________________________________________________\n"
     ]
    }
   ],
   "source": [
    " model2.summary()"
   ]
  },
  {
   "cell_type": "code",
   "execution_count": 102,
   "metadata": {},
   "outputs": [],
   "source": [
    "path_to_save_model2 = \"model/best_model2.h5\""
   ]
  },
  {
   "cell_type": "code",
   "execution_count": 106,
   "metadata": {},
   "outputs": [],
   "source": [
    "model2.compile(optimizer=SGD(lr=0.01),\n",
    "              loss='categorical_crossentropy',\n",
    "              metrics=['accuracy'])"
   ]
  },
  {
   "cell_type": "code",
   "execution_count": 107,
   "metadata": {},
   "outputs": [
    {
     "name": "stdout",
     "output_type": "stream",
     "text": [
      "Train on 120 samples, validate on 15 samples\n",
      "Epoch 1/300\n",
      " - 1s - loss: 0.3146 - acc: 0.8750 - val_loss: 0.1729 - val_acc: 0.9333\n",
      "Epoch 2/300\n",
      " - 0s - loss: 0.3495 - acc: 0.8583 - val_loss: 0.1623 - val_acc: 1.0000\n",
      "Epoch 3/300\n",
      " - 0s - loss: 0.3127 - acc: 0.8833 - val_loss: 0.1615 - val_acc: 1.0000\n",
      "Epoch 4/300\n",
      " - 0s - loss: 0.3325 - acc: 0.8417 - val_loss: 0.1580 - val_acc: 1.0000\n",
      "Epoch 5/300\n",
      " - 0s - loss: 0.3185 - acc: 0.8750 - val_loss: 0.1529 - val_acc: 1.0000\n",
      "Epoch 6/300\n",
      " - 0s - loss: 0.3134 - acc: 0.8417 - val_loss: 0.1493 - val_acc: 1.0000\n",
      "Epoch 7/300\n",
      " - 0s - loss: 0.2699 - acc: 0.8667 - val_loss: 0.1450 - val_acc: 1.0000\n",
      "Epoch 8/300\n",
      " - 0s - loss: 0.3562 - acc: 0.8417 - val_loss: 0.1425 - val_acc: 1.0000\n",
      "Epoch 9/300\n",
      " - 0s - loss: 0.2399 - acc: 0.9000 - val_loss: 0.1421 - val_acc: 1.0000\n",
      "Epoch 10/300\n",
      " - 0s - loss: 0.2668 - acc: 0.9083 - val_loss: 0.1411 - val_acc: 1.0000\n",
      "Epoch 11/300\n",
      " - 0s - loss: 0.3519 - acc: 0.8333 - val_loss: 0.1421 - val_acc: 1.0000\n",
      "Epoch 12/300\n",
      " - 0s - loss: 0.3445 - acc: 0.8583 - val_loss: 0.1413 - val_acc: 1.0000\n",
      "Epoch 13/300\n",
      " - 0s - loss: 0.3510 - acc: 0.8417 - val_loss: 0.1388 - val_acc: 1.0000\n",
      "Epoch 14/300\n",
      " - 0s - loss: 0.3092 - acc: 0.8417 - val_loss: 0.1387 - val_acc: 1.0000\n",
      "Epoch 15/300\n",
      " - 0s - loss: 0.2725 - acc: 0.9000 - val_loss: 0.1407 - val_acc: 1.0000\n",
      "Epoch 16/300\n",
      " - 0s - loss: 0.3383 - acc: 0.8583 - val_loss: 0.1429 - val_acc: 1.0000\n",
      "Epoch 17/300\n",
      " - 0s - loss: 0.3257 - acc: 0.8667 - val_loss: 0.1432 - val_acc: 1.0000\n",
      "Epoch 18/300\n",
      " - 0s - loss: 0.3184 - acc: 0.8667 - val_loss: 0.1434 - val_acc: 1.0000\n",
      "Epoch 19/300\n",
      " - 0s - loss: 0.3475 - acc: 0.8333 - val_loss: 0.1401 - val_acc: 1.0000\n",
      "Epoch 20/300\n",
      " - 0s - loss: 0.2688 - acc: 0.8667 - val_loss: 0.1415 - val_acc: 1.0000\n",
      "Epoch 21/300\n",
      " - 0s - loss: 0.3430 - acc: 0.8667 - val_loss: 0.1444 - val_acc: 1.0000\n",
      "Epoch 22/300\n",
      " - 0s - loss: 0.3314 - acc: 0.8583 - val_loss: 0.1429 - val_acc: 1.0000\n",
      "Epoch 23/300\n",
      " - 0s - loss: 0.2984 - acc: 0.8333 - val_loss: 0.1421 - val_acc: 1.0000\n",
      "Epoch 24/300\n",
      " - 0s - loss: 0.3230 - acc: 0.8417 - val_loss: 0.1418 - val_acc: 1.0000\n",
      "Epoch 25/300\n",
      " - 0s - loss: 0.3754 - acc: 0.8250 - val_loss: 0.1405 - val_acc: 1.0000\n",
      "Epoch 26/300\n",
      " - 0s - loss: 0.3097 - acc: 0.8750 - val_loss: 0.1413 - val_acc: 1.0000\n",
      "Epoch 27/300\n",
      " - 0s - loss: 0.3016 - acc: 0.8917 - val_loss: 0.1434 - val_acc: 1.0000\n",
      "Epoch 28/300\n",
      " - 0s - loss: 0.3227 - acc: 0.8583 - val_loss: 0.1447 - val_acc: 1.0000\n",
      "Epoch 29/300\n",
      " - 0s - loss: 0.2897 - acc: 0.8833 - val_loss: 0.1449 - val_acc: 1.0000\n",
      "Epoch 30/300\n",
      " - 0s - loss: 0.2716 - acc: 0.8917 - val_loss: 0.1434 - val_acc: 1.0000\n",
      "Epoch 31/300\n",
      " - 0s - loss: 0.2977 - acc: 0.8667 - val_loss: 0.1457 - val_acc: 1.0000\n",
      "Epoch 32/300\n",
      " - 0s - loss: 0.3340 - acc: 0.8417 - val_loss: 0.1452 - val_acc: 1.0000\n",
      "Epoch 33/300\n",
      " - 0s - loss: 0.2740 - acc: 0.8750 - val_loss: 0.1436 - val_acc: 1.0000\n",
      "Epoch 34/300\n",
      " - 0s - loss: 0.2884 - acc: 0.8667 - val_loss: 0.1405 - val_acc: 1.0000\n",
      "Epoch 35/300\n",
      " - 0s - loss: 0.3708 - acc: 0.8417 - val_loss: 0.1389 - val_acc: 1.0000\n",
      "Epoch 36/300\n",
      " - 0s - loss: 0.2692 - acc: 0.8917 - val_loss: 0.1386 - val_acc: 1.0000\n",
      "Epoch 37/300\n",
      " - 0s - loss: 0.3074 - acc: 0.8667 - val_loss: 0.1394 - val_acc: 1.0000\n",
      "Epoch 38/300\n",
      " - 0s - loss: 0.3260 - acc: 0.8667 - val_loss: 0.1423 - val_acc: 1.0000\n",
      "Epoch 39/300\n",
      " - 0s - loss: 0.1991 - acc: 0.9333 - val_loss: 0.1419 - val_acc: 1.0000\n",
      "Epoch 40/300\n",
      " - 0s - loss: 0.2976 - acc: 0.9000 - val_loss: 0.1413 - val_acc: 1.0000\n",
      "Epoch 41/300\n",
      " - 0s - loss: 0.2384 - acc: 0.9083 - val_loss: 0.1424 - val_acc: 1.0000\n",
      "Epoch 42/300\n",
      " - 0s - loss: 0.3056 - acc: 0.8500 - val_loss: 0.1415 - val_acc: 1.0000\n",
      "Epoch 43/300\n",
      " - 0s - loss: 0.2599 - acc: 0.9167 - val_loss: 0.1408 - val_acc: 1.0000\n",
      "Epoch 44/300\n",
      " - 0s - loss: 0.2710 - acc: 0.8917 - val_loss: 0.1408 - val_acc: 1.0000\n",
      "Epoch 45/300\n",
      " - 0s - loss: 0.3217 - acc: 0.8583 - val_loss: 0.1408 - val_acc: 1.0000\n",
      "Epoch 46/300\n",
      " - 0s - loss: 0.2721 - acc: 0.9083 - val_loss: 0.1408 - val_acc: 1.0000\n",
      "Epoch 47/300\n",
      " - 0s - loss: 0.2854 - acc: 0.8833 - val_loss: 0.1428 - val_acc: 1.0000\n",
      "Epoch 48/300\n",
      " - 0s - loss: 0.2588 - acc: 0.9167 - val_loss: 0.1446 - val_acc: 1.0000\n",
      "Epoch 49/300\n",
      " - 0s - loss: 0.3397 - acc: 0.8917 - val_loss: 0.1439 - val_acc: 1.0000\n",
      "Epoch 50/300\n",
      " - 0s - loss: 0.3974 - acc: 0.8167 - val_loss: 0.1432 - val_acc: 1.0000\n",
      "Epoch 51/300\n",
      " - 0s - loss: 0.2857 - acc: 0.8750 - val_loss: 0.1419 - val_acc: 1.0000\n",
      "Epoch 52/300\n",
      " - 0s - loss: 0.2571 - acc: 0.9000 - val_loss: 0.1413 - val_acc: 1.0000\n",
      "Epoch 53/300\n",
      " - 0s - loss: 0.2573 - acc: 0.9083 - val_loss: 0.1393 - val_acc: 1.0000\n",
      "Epoch 54/300\n",
      " - 0s - loss: 0.3002 - acc: 0.8917 - val_loss: 0.1402 - val_acc: 1.0000\n",
      "Epoch 55/300\n",
      " - 0s - loss: 0.2775 - acc: 0.8750 - val_loss: 0.1419 - val_acc: 1.0000\n",
      "Epoch 56/300\n",
      " - 0s - loss: 0.3587 - acc: 0.8750 - val_loss: 0.1369 - val_acc: 1.0000\n",
      "Epoch 57/300\n",
      " - 0s - loss: 0.2414 - acc: 0.9250 - val_loss: 0.1367 - val_acc: 1.0000\n",
      "Epoch 58/300\n",
      " - 0s - loss: 0.3334 - acc: 0.8500 - val_loss: 0.1368 - val_acc: 1.0000\n",
      "Epoch 59/300\n",
      " - 0s - loss: 0.3096 - acc: 0.8750 - val_loss: 0.1390 - val_acc: 1.0000\n",
      "Epoch 60/300\n",
      " - 0s - loss: 0.2924 - acc: 0.8833 - val_loss: 0.1396 - val_acc: 1.0000\n",
      "Epoch 61/300\n",
      " - 0s - loss: 0.3100 - acc: 0.8917 - val_loss: 0.1403 - val_acc: 1.0000\n",
      "Epoch 62/300\n",
      " - 0s - loss: 0.3334 - acc: 0.8417 - val_loss: 0.1385 - val_acc: 1.0000\n",
      "Epoch 63/300\n",
      " - 0s - loss: 0.3362 - acc: 0.8500 - val_loss: 0.1414 - val_acc: 1.0000\n",
      "Epoch 64/300\n",
      " - 0s - loss: 0.2542 - acc: 0.9167 - val_loss: 0.1389 - val_acc: 1.0000\n",
      "Epoch 65/300\n",
      " - 0s - loss: 0.3262 - acc: 0.8500 - val_loss: 0.1433 - val_acc: 1.0000\n",
      "Epoch 66/300\n",
      " - 0s - loss: 0.2288 - acc: 0.9583 - val_loss: 0.1412 - val_acc: 1.0000\n",
      "Epoch 67/300\n",
      " - 0s - loss: 0.2912 - acc: 0.9000 - val_loss: 0.1440 - val_acc: 1.0000\n",
      "Epoch 68/300\n",
      " - 0s - loss: 0.3284 - acc: 0.8417 - val_loss: 0.1449 - val_acc: 1.0000\n",
      "Epoch 69/300\n",
      " - 0s - loss: 0.3194 - acc: 0.8583 - val_loss: 0.1451 - val_acc: 1.0000\n",
      "Epoch 70/300\n",
      " - 0s - loss: 0.2775 - acc: 0.8750 - val_loss: 0.1402 - val_acc: 1.0000\n",
      "Epoch 71/300\n",
      " - 0s - loss: 0.3153 - acc: 0.8583 - val_loss: 0.1377 - val_acc: 1.0000\n",
      "Epoch 72/300\n",
      " - 0s - loss: 0.2857 - acc: 0.8917 - val_loss: 0.1385 - val_acc: 1.0000\n",
      "Epoch 73/300\n",
      " - 0s - loss: 0.3877 - acc: 0.8333 - val_loss: 0.1363 - val_acc: 1.0000\n",
      "Epoch 74/300\n",
      " - 0s - loss: 0.3008 - acc: 0.8583 - val_loss: 0.1326 - val_acc: 1.0000\n",
      "Epoch 75/300\n",
      " - 0s - loss: 0.3831 - acc: 0.8583 - val_loss: 0.1349 - val_acc: 1.0000\n",
      "Epoch 76/300\n",
      " - 0s - loss: 0.3791 - acc: 0.8000 - val_loss: 0.1348 - val_acc: 1.0000\n",
      "Epoch 77/300\n",
      " - 0s - loss: 0.3206 - acc: 0.8417 - val_loss: 0.1348 - val_acc: 1.0000\n",
      "Epoch 78/300\n",
      " - 0s - loss: 0.3705 - acc: 0.8417 - val_loss: 0.1359 - val_acc: 1.0000\n",
      "Epoch 79/300\n",
      " - 0s - loss: 0.2828 - acc: 0.8917 - val_loss: 0.1366 - val_acc: 1.0000\n",
      "Epoch 80/300\n",
      " - 0s - loss: 0.2704 - acc: 0.8917 - val_loss: 0.1381 - val_acc: 1.0000\n",
      "Epoch 81/300\n",
      " - 0s - loss: 0.2510 - acc: 0.9000 - val_loss: 0.1377 - val_acc: 1.0000\n",
      "Epoch 82/300\n",
      " - 0s - loss: 0.3073 - acc: 0.8583 - val_loss: 0.1401 - val_acc: 1.0000\n",
      "Epoch 83/300\n",
      " - 0s - loss: 0.3559 - acc: 0.8583 - val_loss: 0.1407 - val_acc: 1.0000\n",
      "Epoch 84/300\n",
      " - 0s - loss: 0.3150 - acc: 0.8667 - val_loss: 0.1391 - val_acc: 1.0000\n",
      "Epoch 85/300\n",
      " - 0s - loss: 0.2592 - acc: 0.8917 - val_loss: 0.1393 - val_acc: 1.0000\n",
      "Epoch 86/300\n",
      " - 0s - loss: 0.3346 - acc: 0.8583 - val_loss: 0.1361 - val_acc: 1.0000\n",
      "Epoch 87/300\n",
      " - 0s - loss: 0.3051 - acc: 0.9167 - val_loss: 0.1369 - val_acc: 1.0000\n",
      "Epoch 88/300\n",
      " - 0s - loss: 0.3461 - acc: 0.8417 - val_loss: 0.1375 - val_acc: 1.0000\n",
      "Epoch 89/300\n",
      " - 0s - loss: 0.3685 - acc: 0.8583 - val_loss: 0.1400 - val_acc: 1.0000\n",
      "Epoch 90/300\n",
      " - 0s - loss: 0.2880 - acc: 0.8833 - val_loss: 0.1412 - val_acc: 1.0000\n",
      "Epoch 91/300\n",
      " - 0s - loss: 0.3825 - acc: 0.8250 - val_loss: 0.1361 - val_acc: 1.0000\n",
      "Epoch 92/300\n",
      " - 0s - loss: 0.2793 - acc: 0.8833 - val_loss: 0.1379 - val_acc: 1.0000\n",
      "Epoch 93/300\n",
      " - 0s - loss: 0.2669 - acc: 0.8833 - val_loss: 0.1367 - val_acc: 1.0000\n",
      "Epoch 94/300\n",
      " - 0s - loss: 0.3618 - acc: 0.8083 - val_loss: 0.1357 - val_acc: 1.0000\n",
      "Epoch 95/300\n",
      " - 0s - loss: 0.2963 - acc: 0.8750 - val_loss: 0.1388 - val_acc: 1.0000\n",
      "Epoch 96/300\n",
      " - 0s - loss: 0.3237 - acc: 0.8417 - val_loss: 0.1375 - val_acc: 1.0000\n"
     ]
    },
    {
     "name": "stdout",
     "output_type": "stream",
     "text": [
      "Epoch 97/300\n",
      " - 0s - loss: 0.2751 - acc: 0.9167 - val_loss: 0.1374 - val_acc: 1.0000\n",
      "Epoch 98/300\n",
      " - 0s - loss: 0.2477 - acc: 0.9417 - val_loss: 0.1357 - val_acc: 1.0000\n",
      "Epoch 99/300\n",
      " - 0s - loss: 0.3417 - acc: 0.8250 - val_loss: 0.1352 - val_acc: 1.0000\n",
      "Epoch 100/300\n",
      " - 0s - loss: 0.3010 - acc: 0.8667 - val_loss: 0.1359 - val_acc: 1.0000\n",
      "Epoch 101/300\n",
      " - 0s - loss: 0.3117 - acc: 0.8667 - val_loss: 0.1341 - val_acc: 1.0000\n",
      "Epoch 102/300\n",
      " - 0s - loss: 0.2915 - acc: 0.8750 - val_loss: 0.1331 - val_acc: 1.0000\n",
      "Epoch 103/300\n",
      " - 0s - loss: 0.2992 - acc: 0.8833 - val_loss: 0.1318 - val_acc: 1.0000\n",
      "Epoch 104/300\n",
      " - 0s - loss: 0.2281 - acc: 0.9333 - val_loss: 0.1314 - val_acc: 1.0000\n",
      "Epoch 105/300\n",
      " - 0s - loss: 0.2805 - acc: 0.9000 - val_loss: 0.1321 - val_acc: 1.0000\n",
      "Epoch 106/300\n",
      " - 0s - loss: 0.3336 - acc: 0.8667 - val_loss: 0.1334 - val_acc: 1.0000\n",
      "Epoch 107/300\n",
      " - 0s - loss: 0.2349 - acc: 0.9083 - val_loss: 0.1312 - val_acc: 1.0000\n",
      "Epoch 108/300\n",
      " - 0s - loss: 0.3163 - acc: 0.8500 - val_loss: 0.1290 - val_acc: 1.0000\n",
      "Epoch 109/300\n",
      " - 0s - loss: 0.2877 - acc: 0.8750 - val_loss: 0.1303 - val_acc: 1.0000\n",
      "Epoch 110/300\n",
      " - 0s - loss: 0.3495 - acc: 0.8333 - val_loss: 0.1321 - val_acc: 1.0000\n",
      "Epoch 111/300\n",
      " - 0s - loss: 0.2514 - acc: 0.9000 - val_loss: 0.1298 - val_acc: 1.0000\n",
      "Epoch 112/300\n",
      " - 0s - loss: 0.3046 - acc: 0.8750 - val_loss: 0.1298 - val_acc: 1.0000\n",
      "Epoch 113/300\n",
      " - 0s - loss: 0.3795 - acc: 0.8583 - val_loss: 0.1311 - val_acc: 1.0000\n",
      "Epoch 114/300\n",
      " - 0s - loss: 0.3508 - acc: 0.8500 - val_loss: 0.1300 - val_acc: 1.0000\n",
      "Epoch 115/300\n",
      " - 0s - loss: 0.3237 - acc: 0.8750 - val_loss: 0.1309 - val_acc: 1.0000\n",
      "Epoch 116/300\n",
      " - 0s - loss: 0.2603 - acc: 0.9000 - val_loss: 0.1306 - val_acc: 1.0000\n",
      "Epoch 117/300\n",
      " - 0s - loss: 0.3333 - acc: 0.8583 - val_loss: 0.1312 - val_acc: 1.0000\n",
      "Epoch 118/300\n",
      " - 0s - loss: 0.2202 - acc: 0.9083 - val_loss: 0.1321 - val_acc: 1.0000\n",
      "Epoch 119/300\n",
      " - 0s - loss: 0.3428 - acc: 0.8750 - val_loss: 0.1302 - val_acc: 1.0000\n",
      "Epoch 120/300\n",
      " - 0s - loss: 0.3086 - acc: 0.8833 - val_loss: 0.1309 - val_acc: 1.0000\n",
      "Epoch 121/300\n",
      " - 0s - loss: 0.2911 - acc: 0.8833 - val_loss: 0.1331 - val_acc: 1.0000\n",
      "Epoch 122/300\n",
      " - 0s - loss: 0.2851 - acc: 0.8917 - val_loss: 0.1333 - val_acc: 1.0000\n",
      "Epoch 123/300\n",
      " - 0s - loss: 0.2958 - acc: 0.8750 - val_loss: 0.1337 - val_acc: 1.0000\n",
      "Epoch 124/300\n",
      " - 0s - loss: 0.2713 - acc: 0.9000 - val_loss: 0.1304 - val_acc: 1.0000\n",
      "Epoch 125/300\n",
      " - 0s - loss: 0.2741 - acc: 0.8833 - val_loss: 0.1325 - val_acc: 1.0000\n",
      "Epoch 126/300\n",
      " - 0s - loss: 0.3110 - acc: 0.8500 - val_loss: 0.1302 - val_acc: 1.0000\n",
      "Epoch 127/300\n",
      " - 0s - loss: 0.2407 - acc: 0.9083 - val_loss: 0.1302 - val_acc: 1.0000\n",
      "Epoch 128/300\n",
      " - 0s - loss: 0.2835 - acc: 0.8583 - val_loss: 0.1341 - val_acc: 1.0000\n",
      "Epoch 129/300\n",
      " - 0s - loss: 0.2846 - acc: 0.8750 - val_loss: 0.1358 - val_acc: 1.0000\n",
      "Epoch 130/300\n",
      " - 0s - loss: 0.2982 - acc: 0.9000 - val_loss: 0.1348 - val_acc: 1.0000\n",
      "Epoch 131/300\n",
      " - 0s - loss: 0.2769 - acc: 0.8917 - val_loss: 0.1336 - val_acc: 1.0000\n",
      "Epoch 132/300\n",
      " - 0s - loss: 0.3398 - acc: 0.8417 - val_loss: 0.1323 - val_acc: 1.0000\n",
      "Epoch 133/300\n",
      " - 0s - loss: 0.2775 - acc: 0.8417 - val_loss: 0.1301 - val_acc: 1.0000\n",
      "Epoch 134/300\n",
      " - 0s - loss: 0.2300 - acc: 0.9500 - val_loss: 0.1272 - val_acc: 1.0000\n",
      "Epoch 135/300\n",
      " - 0s - loss: 0.3076 - acc: 0.8833 - val_loss: 0.1293 - val_acc: 1.0000\n",
      "Epoch 136/300\n",
      " - 0s - loss: 0.2681 - acc: 0.8917 - val_loss: 0.1302 - val_acc: 1.0000\n",
      "Epoch 137/300\n",
      " - 0s - loss: 0.2771 - acc: 0.8417 - val_loss: 0.1272 - val_acc: 1.0000\n",
      "Epoch 138/300\n",
      " - 0s - loss: 0.3294 - acc: 0.8417 - val_loss: 0.1282 - val_acc: 1.0000\n",
      "Epoch 139/300\n",
      " - 0s - loss: 0.3005 - acc: 0.9000 - val_loss: 0.1289 - val_acc: 1.0000\n",
      "Epoch 140/300\n",
      " - 0s - loss: 0.3332 - acc: 0.8667 - val_loss: 0.1329 - val_acc: 1.0000\n",
      "Epoch 141/300\n",
      " - 0s - loss: 0.2991 - acc: 0.8667 - val_loss: 0.1313 - val_acc: 1.0000\n",
      "Epoch 142/300\n",
      " - 0s - loss: 0.2742 - acc: 0.8750 - val_loss: 0.1306 - val_acc: 1.0000\n",
      "Epoch 143/300\n",
      " - 0s - loss: 0.2805 - acc: 0.9000 - val_loss: 0.1316 - val_acc: 1.0000\n",
      "Epoch 144/300\n",
      " - 0s - loss: 0.3031 - acc: 0.8417 - val_loss: 0.1320 - val_acc: 1.0000\n",
      "Epoch 145/300\n",
      " - 0s - loss: 0.2592 - acc: 0.9000 - val_loss: 0.1310 - val_acc: 1.0000\n",
      "Epoch 146/300\n",
      " - 0s - loss: 0.2808 - acc: 0.8750 - val_loss: 0.1313 - val_acc: 1.0000\n",
      "Epoch 147/300\n",
      " - 0s - loss: 0.2762 - acc: 0.8917 - val_loss: 0.1331 - val_acc: 1.0000\n",
      "Epoch 148/300\n",
      " - 0s - loss: 0.2752 - acc: 0.9000 - val_loss: 0.1331 - val_acc: 1.0000\n",
      "Epoch 149/300\n",
      " - 0s - loss: 0.2768 - acc: 0.9083 - val_loss: 0.1325 - val_acc: 1.0000\n",
      "Epoch 150/300\n",
      " - 0s - loss: 0.3941 - acc: 0.8250 - val_loss: 0.1315 - val_acc: 1.0000\n",
      "Epoch 151/300\n",
      " - 0s - loss: 0.2565 - acc: 0.9167 - val_loss: 0.1322 - val_acc: 1.0000\n",
      "Epoch 152/300\n",
      " - 0s - loss: 0.2921 - acc: 0.8583 - val_loss: 0.1314 - val_acc: 1.0000\n",
      "Epoch 153/300\n",
      " - 0s - loss: 0.3375 - acc: 0.8583 - val_loss: 0.1289 - val_acc: 1.0000\n",
      "Epoch 154/300\n",
      " - 0s - loss: 0.2962 - acc: 0.8833 - val_loss: 0.1297 - val_acc: 1.0000\n",
      "Epoch 155/300\n",
      " - 0s - loss: 0.2242 - acc: 0.9333 - val_loss: 0.1328 - val_acc: 1.0000\n",
      "Epoch 156/300\n",
      " - 0s - loss: 0.2681 - acc: 0.8917 - val_loss: 0.1333 - val_acc: 1.0000\n",
      "Epoch 157/300\n",
      " - 0s - loss: 0.2860 - acc: 0.9000 - val_loss: 0.1350 - val_acc: 1.0000\n",
      "Epoch 158/300\n",
      " - 0s - loss: 0.2872 - acc: 0.8500 - val_loss: 0.1369 - val_acc: 1.0000\n",
      "Epoch 159/300\n",
      " - 0s - loss: 0.3260 - acc: 0.8500 - val_loss: 0.1370 - val_acc: 1.0000\n",
      "Epoch 160/300\n",
      " - 0s - loss: 0.3065 - acc: 0.8333 - val_loss: 0.1331 - val_acc: 1.0000\n",
      "Epoch 161/300\n",
      " - 0s - loss: 0.3439 - acc: 0.8250 - val_loss: 0.1347 - val_acc: 1.0000\n",
      "Epoch 162/300\n",
      " - 0s - loss: 0.2839 - acc: 0.8667 - val_loss: 0.1327 - val_acc: 1.0000\n",
      "Epoch 163/300\n",
      " - 0s - loss: 0.3356 - acc: 0.8500 - val_loss: 0.1316 - val_acc: 1.0000\n",
      "Epoch 164/300\n",
      " - 0s - loss: 0.2949 - acc: 0.8667 - val_loss: 0.1315 - val_acc: 1.0000\n",
      "Epoch 165/300\n",
      " - 0s - loss: 0.2687 - acc: 0.8917 - val_loss: 0.1311 - val_acc: 1.0000\n",
      "Epoch 166/300\n",
      " - 0s - loss: 0.2906 - acc: 0.8750 - val_loss: 0.1276 - val_acc: 1.0000\n",
      "Epoch 167/300\n",
      " - 0s - loss: 0.2998 - acc: 0.8417 - val_loss: 0.1312 - val_acc: 1.0000\n",
      "Epoch 168/300\n",
      " - 0s - loss: 0.2923 - acc: 0.8417 - val_loss: 0.1290 - val_acc: 1.0000\n",
      "Epoch 169/300\n",
      " - 0s - loss: 0.3094 - acc: 0.8500 - val_loss: 0.1310 - val_acc: 1.0000\n",
      "Epoch 170/300\n",
      " - 0s - loss: 0.2990 - acc: 0.8833 - val_loss: 0.1319 - val_acc: 1.0000\n",
      "Epoch 171/300\n",
      " - 0s - loss: 0.3650 - acc: 0.8750 - val_loss: 0.1277 - val_acc: 1.0000\n",
      "Epoch 172/300\n",
      " - 0s - loss: 0.2614 - acc: 0.8833 - val_loss: 0.1305 - val_acc: 1.0000\n",
      "Epoch 173/300\n",
      " - 0s - loss: 0.2592 - acc: 0.8750 - val_loss: 0.1305 - val_acc: 1.0000\n",
      "Epoch 174/300\n",
      " - 0s - loss: 0.3315 - acc: 0.8250 - val_loss: 0.1311 - val_acc: 1.0000\n",
      "Epoch 175/300\n",
      " - 0s - loss: 0.3263 - acc: 0.8667 - val_loss: 0.1283 - val_acc: 1.0000\n",
      "Epoch 176/300\n",
      " - 0s - loss: 0.2636 - acc: 0.9000 - val_loss: 0.1285 - val_acc: 1.0000\n",
      "Epoch 177/300\n",
      " - 0s - loss: 0.3119 - acc: 0.8583 - val_loss: 0.1306 - val_acc: 1.0000\n",
      "Epoch 178/300\n",
      " - 0s - loss: 0.3138 - acc: 0.8750 - val_loss: 0.1315 - val_acc: 1.0000\n",
      "Epoch 179/300\n",
      " - 0s - loss: 0.2606 - acc: 0.8917 - val_loss: 0.1298 - val_acc: 1.0000\n",
      "Epoch 180/300\n",
      " - 0s - loss: 0.2465 - acc: 0.9083 - val_loss: 0.1288 - val_acc: 1.0000\n",
      "Epoch 181/300\n",
      " - 0s - loss: 0.3270 - acc: 0.8333 - val_loss: 0.1278 - val_acc: 1.0000\n",
      "Epoch 182/300\n",
      " - 0s - loss: 0.2907 - acc: 0.8833 - val_loss: 0.1277 - val_acc: 1.0000\n",
      "Epoch 183/300\n",
      " - 0s - loss: 0.2320 - acc: 0.9167 - val_loss: 0.1311 - val_acc: 1.0000\n",
      "Epoch 184/300\n",
      " - 0s - loss: 0.2816 - acc: 0.9000 - val_loss: 0.1283 - val_acc: 1.0000\n",
      "Epoch 185/300\n",
      " - 0s - loss: 0.3356 - acc: 0.8500 - val_loss: 0.1271 - val_acc: 1.0000\n",
      "Epoch 186/300\n",
      " - 0s - loss: 0.3313 - acc: 0.8667 - val_loss: 0.1289 - val_acc: 1.0000\n",
      "Epoch 187/300\n",
      " - 0s - loss: 0.2606 - acc: 0.8833 - val_loss: 0.1291 - val_acc: 1.0000\n",
      "Epoch 188/300\n",
      " - 0s - loss: 0.2659 - acc: 0.9167 - val_loss: 0.1297 - val_acc: 1.0000\n",
      "Epoch 189/300\n",
      " - 0s - loss: 0.2801 - acc: 0.8917 - val_loss: 0.1296 - val_acc: 1.0000\n",
      "Epoch 190/300\n",
      " - 0s - loss: 0.2755 - acc: 0.8917 - val_loss: 0.1310 - val_acc: 1.0000\n",
      "Epoch 191/300\n",
      " - 0s - loss: 0.2769 - acc: 0.8750 - val_loss: 0.1277 - val_acc: 1.0000\n",
      "Epoch 192/300\n",
      " - 0s - loss: 0.2818 - acc: 0.9000 - val_loss: 0.1281 - val_acc: 1.0000\n"
     ]
    },
    {
     "name": "stdout",
     "output_type": "stream",
     "text": [
      "Epoch 193/300\n",
      " - 0s - loss: 0.2992 - acc: 0.8750 - val_loss: 0.1307 - val_acc: 1.0000\n",
      "Epoch 194/300\n",
      " - 0s - loss: 0.2856 - acc: 0.9083 - val_loss: 0.1313 - val_acc: 1.0000\n",
      "Epoch 195/300\n",
      " - 0s - loss: 0.3166 - acc: 0.8500 - val_loss: 0.1296 - val_acc: 1.0000\n",
      "Epoch 196/300\n",
      " - 0s - loss: 0.2903 - acc: 0.8417 - val_loss: 0.1294 - val_acc: 1.0000\n",
      "Epoch 197/300\n",
      " - 0s - loss: 0.2631 - acc: 0.9000 - val_loss: 0.1272 - val_acc: 1.0000\n",
      "Epoch 198/300\n",
      " - 0s - loss: 0.3063 - acc: 0.8667 - val_loss: 0.1303 - val_acc: 1.0000\n",
      "Epoch 199/300\n",
      " - 0s - loss: 0.3824 - acc: 0.8083 - val_loss: 0.1292 - val_acc: 1.0000\n",
      "Epoch 200/300\n",
      " - 0s - loss: 0.2880 - acc: 0.8917 - val_loss: 0.1281 - val_acc: 1.0000\n",
      "Epoch 201/300\n",
      " - 0s - loss: 0.3428 - acc: 0.8250 - val_loss: 0.1265 - val_acc: 1.0000\n",
      "Epoch 202/300\n",
      " - 0s - loss: 0.3160 - acc: 0.8750 - val_loss: 0.1304 - val_acc: 1.0000\n",
      "Epoch 203/300\n",
      " - 0s - loss: 0.3452 - acc: 0.8500 - val_loss: 0.1322 - val_acc: 1.0000\n",
      "Epoch 204/300\n",
      " - 0s - loss: 0.2306 - acc: 0.9250 - val_loss: 0.1322 - val_acc: 1.0000\n",
      "Epoch 205/300\n",
      " - 0s - loss: 0.3326 - acc: 0.8250 - val_loss: 0.1280 - val_acc: 1.0000\n",
      "Epoch 206/300\n",
      " - 0s - loss: 0.2193 - acc: 0.9167 - val_loss: 0.1275 - val_acc: 1.0000\n",
      "Epoch 207/300\n",
      " - 0s - loss: 0.3363 - acc: 0.8333 - val_loss: 0.1252 - val_acc: 1.0000\n",
      "Epoch 208/300\n",
      " - 0s - loss: 0.3321 - acc: 0.8333 - val_loss: 0.1247 - val_acc: 1.0000\n",
      "Epoch 209/300\n",
      " - 0s - loss: 0.3283 - acc: 0.8583 - val_loss: 0.1228 - val_acc: 1.0000\n",
      "Epoch 210/300\n",
      " - 0s - loss: 0.2872 - acc: 0.8917 - val_loss: 0.1239 - val_acc: 1.0000\n",
      "Epoch 211/300\n",
      " - 0s - loss: 0.3837 - acc: 0.8000 - val_loss: 0.1208 - val_acc: 1.0000\n",
      "Epoch 212/300\n",
      " - 0s - loss: 0.2354 - acc: 0.9333 - val_loss: 0.1229 - val_acc: 1.0000\n",
      "Epoch 213/300\n",
      " - 0s - loss: 0.3649 - acc: 0.8333 - val_loss: 0.1222 - val_acc: 1.0000\n",
      "Epoch 214/300\n",
      " - 0s - loss: 0.2870 - acc: 0.8750 - val_loss: 0.1214 - val_acc: 1.0000\n",
      "Epoch 215/300\n",
      " - 0s - loss: 0.2670 - acc: 0.8583 - val_loss: 0.1219 - val_acc: 1.0000\n",
      "Epoch 216/300\n",
      " - 0s - loss: 0.2399 - acc: 0.9000 - val_loss: 0.1219 - val_acc: 1.0000\n",
      "Epoch 217/300\n",
      " - 0s - loss: 0.2381 - acc: 0.8917 - val_loss: 0.1236 - val_acc: 1.0000\n",
      "Epoch 218/300\n",
      " - 0s - loss: 0.3317 - acc: 0.8333 - val_loss: 0.1235 - val_acc: 1.0000\n",
      "Epoch 219/300\n",
      " - 0s - loss: 0.3230 - acc: 0.8417 - val_loss: 0.1241 - val_acc: 1.0000\n",
      "Epoch 220/300\n",
      " - 0s - loss: 0.2609 - acc: 0.9000 - val_loss: 0.1258 - val_acc: 1.0000\n",
      "Epoch 221/300\n",
      " - 0s - loss: 0.2624 - acc: 0.9167 - val_loss: 0.1290 - val_acc: 1.0000\n",
      "Epoch 222/300\n",
      " - 0s - loss: 0.2463 - acc: 0.9083 - val_loss: 0.1258 - val_acc: 1.0000\n",
      "Epoch 223/300\n",
      " - 0s - loss: 0.3152 - acc: 0.8333 - val_loss: 0.1264 - val_acc: 1.0000\n",
      "Epoch 224/300\n",
      " - 0s - loss: 0.3115 - acc: 0.8750 - val_loss: 0.1276 - val_acc: 1.0000\n",
      "Epoch 225/300\n",
      " - 0s - loss: 0.2025 - acc: 0.9500 - val_loss: 0.1277 - val_acc: 1.0000\n",
      "Epoch 226/300\n",
      " - 0s - loss: 0.2511 - acc: 0.8833 - val_loss: 0.1278 - val_acc: 1.0000\n",
      "Epoch 227/300\n",
      " - 0s - loss: 0.3036 - acc: 0.8500 - val_loss: 0.1313 - val_acc: 1.0000\n",
      "Epoch 228/300\n",
      " - 0s - loss: 0.2477 - acc: 0.9250 - val_loss: 0.1271 - val_acc: 1.0000\n",
      "Epoch 229/300\n",
      " - 0s - loss: 0.2457 - acc: 0.8833 - val_loss: 0.1287 - val_acc: 1.0000\n",
      "Epoch 230/300\n",
      " - 0s - loss: 0.2828 - acc: 0.9000 - val_loss: 0.1271 - val_acc: 1.0000\n",
      "Epoch 231/300\n",
      " - 0s - loss: 0.2597 - acc: 0.9083 - val_loss: 0.1260 - val_acc: 1.0000\n",
      "Epoch 232/300\n",
      " - 0s - loss: 0.2347 - acc: 0.9250 - val_loss: 0.1277 - val_acc: 1.0000\n",
      "Epoch 233/300\n",
      " - 0s - loss: 0.2895 - acc: 0.8500 - val_loss: 0.1259 - val_acc: 1.0000\n",
      "Epoch 234/300\n",
      " - 0s - loss: 0.3151 - acc: 0.8583 - val_loss: 0.1227 - val_acc: 1.0000\n",
      "Epoch 235/300\n",
      " - 0s - loss: 0.2867 - acc: 0.8833 - val_loss: 0.1279 - val_acc: 1.0000\n",
      "Epoch 236/300\n",
      " - 0s - loss: 0.3235 - acc: 0.8667 - val_loss: 0.1263 - val_acc: 1.0000\n",
      "Epoch 237/300\n",
      " - 0s - loss: 0.2872 - acc: 0.8667 - val_loss: 0.1268 - val_acc: 1.0000\n",
      "Epoch 238/300\n",
      " - 0s - loss: 0.3292 - acc: 0.8417 - val_loss: 0.1252 - val_acc: 1.0000\n",
      "Epoch 239/300\n",
      " - 0s - loss: 0.2823 - acc: 0.8583 - val_loss: 0.1221 - val_acc: 1.0000\n",
      "Epoch 240/300\n",
      " - 0s - loss: 0.3019 - acc: 0.8750 - val_loss: 0.1225 - val_acc: 1.0000\n",
      "Epoch 241/300\n",
      " - 0s - loss: 0.2731 - acc: 0.8833 - val_loss: 0.1218 - val_acc: 1.0000\n",
      "Epoch 242/300\n",
      " - 0s - loss: 0.2962 - acc: 0.8833 - val_loss: 0.1234 - val_acc: 1.0000\n",
      "Epoch 243/300\n",
      " - 0s - loss: 0.3365 - acc: 0.8417 - val_loss: 0.1217 - val_acc: 1.0000\n",
      "Epoch 244/300\n",
      " - 0s - loss: 0.2436 - acc: 0.9250 - val_loss: 0.1209 - val_acc: 1.0000\n",
      "Epoch 245/300\n",
      " - 0s - loss: 0.3005 - acc: 0.8583 - val_loss: 0.1229 - val_acc: 1.0000\n",
      "Epoch 246/300\n",
      " - 0s - loss: 0.2893 - acc: 0.8917 - val_loss: 0.1226 - val_acc: 1.0000\n",
      "Epoch 247/300\n",
      " - 0s - loss: 0.2732 - acc: 0.8583 - val_loss: 0.1241 - val_acc: 1.0000\n",
      "Epoch 248/300\n",
      " - 0s - loss: 0.3059 - acc: 0.8500 - val_loss: 0.1251 - val_acc: 1.0000\n",
      "Epoch 249/300\n",
      " - 0s - loss: 0.2736 - acc: 0.9083 - val_loss: 0.1265 - val_acc: 1.0000\n",
      "Epoch 250/300\n",
      " - 0s - loss: 0.3257 - acc: 0.8417 - val_loss: 0.1282 - val_acc: 1.0000\n",
      "Epoch 251/300\n",
      " - 0s - loss: 0.3596 - acc: 0.7917 - val_loss: 0.1247 - val_acc: 1.0000\n",
      "Epoch 252/300\n",
      " - 0s - loss: 0.3034 - acc: 0.8583 - val_loss: 0.1240 - val_acc: 1.0000\n",
      "Epoch 253/300\n",
      " - 0s - loss: 0.2812 - acc: 0.8917 - val_loss: 0.1247 - val_acc: 1.0000\n",
      "Epoch 254/300\n",
      " - 0s - loss: 0.2302 - acc: 0.9083 - val_loss: 0.1236 - val_acc: 1.0000\n",
      "Epoch 255/300\n",
      " - 0s - loss: 0.2651 - acc: 0.8917 - val_loss: 0.1251 - val_acc: 1.0000\n",
      "Epoch 256/300\n",
      " - 0s - loss: 0.2343 - acc: 0.9333 - val_loss: 0.1270 - val_acc: 1.0000\n",
      "Epoch 257/300\n",
      " - 0s - loss: 0.2728 - acc: 0.9083 - val_loss: 0.1272 - val_acc: 1.0000\n",
      "Epoch 258/300\n",
      " - 0s - loss: 0.2909 - acc: 0.8750 - val_loss: 0.1283 - val_acc: 1.0000\n",
      "Epoch 259/300\n",
      " - 0s - loss: 0.2159 - acc: 0.9417 - val_loss: 0.1284 - val_acc: 1.0000\n",
      "Epoch 260/300\n",
      " - 0s - loss: 0.2752 - acc: 0.8917 - val_loss: 0.1282 - val_acc: 1.0000\n",
      "Epoch 261/300\n",
      " - 0s - loss: 0.2562 - acc: 0.9417 - val_loss: 0.1280 - val_acc: 1.0000\n",
      "Epoch 262/300\n",
      " - 0s - loss: 0.2786 - acc: 0.8667 - val_loss: 0.1249 - val_acc: 1.0000\n",
      "Epoch 263/300\n",
      " - 0s - loss: 0.2993 - acc: 0.8833 - val_loss: 0.1263 - val_acc: 1.0000\n",
      "Epoch 264/300\n",
      " - 0s - loss: 0.2908 - acc: 0.8750 - val_loss: 0.1260 - val_acc: 1.0000\n",
      "Epoch 265/300\n",
      " - 0s - loss: 0.2572 - acc: 0.8667 - val_loss: 0.1255 - val_acc: 1.0000\n",
      "Epoch 266/300\n",
      " - 0s - loss: 0.2654 - acc: 0.8917 - val_loss: 0.1251 - val_acc: 1.0000\n",
      "Epoch 267/300\n",
      " - 0s - loss: 0.3006 - acc: 0.8500 - val_loss: 0.1219 - val_acc: 1.0000\n",
      "Epoch 268/300\n",
      " - 0s - loss: 0.3416 - acc: 0.8500 - val_loss: 0.1203 - val_acc: 1.0000\n",
      "Epoch 269/300\n",
      " - 0s - loss: 0.2026 - acc: 0.9417 - val_loss: 0.1215 - val_acc: 1.0000\n",
      "Epoch 270/300\n",
      " - 0s - loss: 0.2130 - acc: 0.9500 - val_loss: 0.1203 - val_acc: 1.0000\n",
      "Epoch 271/300\n",
      " - 0s - loss: 0.2452 - acc: 0.9250 - val_loss: 0.1192 - val_acc: 1.0000\n",
      "Epoch 272/300\n",
      " - 0s - loss: 0.2443 - acc: 0.9000 - val_loss: 0.1188 - val_acc: 1.0000\n",
      "Epoch 273/300\n",
      " - 0s - loss: 0.2468 - acc: 0.9167 - val_loss: 0.1196 - val_acc: 1.0000\n",
      "Epoch 274/300\n",
      " - 0s - loss: 0.2882 - acc: 0.8833 - val_loss: 0.1213 - val_acc: 1.0000\n",
      "Epoch 275/300\n",
      " - 0s - loss: 0.2709 - acc: 0.8833 - val_loss: 0.1240 - val_acc: 1.0000\n",
      "Epoch 276/300\n",
      " - 0s - loss: 0.2328 - acc: 0.9333 - val_loss: 0.1274 - val_acc: 1.0000\n",
      "Epoch 277/300\n",
      " - 0s - loss: 0.2803 - acc: 0.8917 - val_loss: 0.1292 - val_acc: 1.0000\n",
      "Epoch 278/300\n",
      " - 0s - loss: 0.2974 - acc: 0.8667 - val_loss: 0.1284 - val_acc: 1.0000\n",
      "Epoch 279/300\n",
      " - 0s - loss: 0.2890 - acc: 0.8583 - val_loss: 0.1268 - val_acc: 1.0000\n",
      "Epoch 280/300\n",
      " - 0s - loss: 0.2484 - acc: 0.8917 - val_loss: 0.1258 - val_acc: 1.0000\n",
      "Epoch 281/300\n",
      " - 0s - loss: 0.3440 - acc: 0.8250 - val_loss: 0.1247 - val_acc: 1.0000\n",
      "Epoch 282/300\n",
      " - 0s - loss: 0.3498 - acc: 0.8583 - val_loss: 0.1208 - val_acc: 1.0000\n",
      "Epoch 283/300\n",
      " - 0s - loss: 0.2965 - acc: 0.9083 - val_loss: 0.1207 - val_acc: 1.0000\n",
      "Epoch 284/300\n",
      " - 0s - loss: 0.2644 - acc: 0.9083 - val_loss: 0.1217 - val_acc: 1.0000\n",
      "Epoch 285/300\n",
      " - 0s - loss: 0.2794 - acc: 0.8917 - val_loss: 0.1245 - val_acc: 1.0000\n",
      "Epoch 286/300\n",
      " - 0s - loss: 0.2534 - acc: 0.8750 - val_loss: 0.1251 - val_acc: 1.0000\n",
      "Epoch 287/300\n",
      " - 0s - loss: 0.3249 - acc: 0.8500 - val_loss: 0.1222 - val_acc: 1.0000\n",
      "Epoch 288/300\n",
      " - 0s - loss: 0.2559 - acc: 0.9083 - val_loss: 0.1217 - val_acc: 1.0000\n"
     ]
    },
    {
     "name": "stdout",
     "output_type": "stream",
     "text": [
      "Epoch 289/300\n",
      " - 0s - loss: 0.2911 - acc: 0.9083 - val_loss: 0.1220 - val_acc: 1.0000\n",
      "Epoch 290/300\n",
      " - 0s - loss: 0.2458 - acc: 0.9000 - val_loss: 0.1238 - val_acc: 1.0000\n",
      "Epoch 291/300\n",
      " - 0s - loss: 0.2426 - acc: 0.9083 - val_loss: 0.1224 - val_acc: 1.0000\n",
      "Epoch 292/300\n",
      " - 0s - loss: 0.2835 - acc: 0.8667 - val_loss: 0.1273 - val_acc: 1.0000\n",
      "Epoch 293/300\n",
      " - 0s - loss: 0.3151 - acc: 0.8917 - val_loss: 0.1255 - val_acc: 1.0000\n",
      "Epoch 294/300\n",
      " - 0s - loss: 0.2535 - acc: 0.9000 - val_loss: 0.1244 - val_acc: 1.0000\n",
      "Epoch 295/300\n",
      " - 0s - loss: 0.2459 - acc: 0.9083 - val_loss: 0.1233 - val_acc: 1.0000\n",
      "Epoch 296/300\n",
      " - 0s - loss: 0.2783 - acc: 0.8917 - val_loss: 0.1220 - val_acc: 1.0000\n",
      "Epoch 297/300\n",
      " - 0s - loss: 0.2344 - acc: 0.9417 - val_loss: 0.1215 - val_acc: 1.0000\n",
      "Epoch 298/300\n",
      " - 0s - loss: 0.2684 - acc: 0.8833 - val_loss: 0.1209 - val_acc: 1.0000\n",
      "Epoch 299/300\n",
      " - 0s - loss: 0.2261 - acc: 0.9167 - val_loss: 0.1221 - val_acc: 1.0000\n",
      "Epoch 300/300\n",
      " - 0s - loss: 0.2706 - acc: 0.9000 - val_loss: 0.1228 - val_acc: 1.0000\n"
     ]
    }
   ],
   "source": [
    "history = model2.fit(train_features,\n",
    "                    train_targets,\n",
    "                    batch_size=32,\n",
    "                    epochs=300,\n",
    "                    verbose=2,\n",
    "                    validation_data=(val_features, val_targets))"
   ]
  },
  {
   "cell_type": "code",
   "execution_count": null,
   "metadata": {},
   "outputs": [],
   "source": []
  }
 ],
 "metadata": {
  "kernelspec": {
   "display_name": "Python 3",
   "language": "python",
   "name": "python3"
  },
  "language_info": {
   "codemirror_mode": {
    "name": "ipython",
    "version": 3
   },
   "file_extension": ".py",
   "mimetype": "text/x-python",
   "name": "python",
   "nbconvert_exporter": "python",
   "pygments_lexer": "ipython3",
   "version": "3.6.5"
  }
 },
 "nbformat": 4,
 "nbformat_minor": 2
}
