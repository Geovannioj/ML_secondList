{
 "cells": [
  {
   "cell_type": "code",
   "execution_count": 2,
   "metadata": {},
   "outputs": [
    {
     "name": "stderr",
     "output_type": "stream",
     "text": [
      "Using TensorFlow backend.\n"
     ]
    }
   ],
   "source": [
    "import numpy as np\n",
    "import keras\n",
    "import pandas as pd\n",
    "import cv2\n",
    "import matplotlib.pyplot as plt\n",
    "from sklearn.model_selection import train_test_split\n",
    "from sklearn.datasets import load_iris\n",
    "from sklearn.metrics import confusion_matrix\n",
    "from sklearn.metrics import classification_report\n",
    "from keras.models import Sequential\n",
    "from keras.optimizers import SGD\n",
    "from keras.layers import Dense, Dropout, Activation\n",
    "from keras.callbacks import EarlyStopping, ModelCheckpoint\n",
    "from keras.models import load_model"
   ]
  },
  {
   "cell_type": "markdown",
   "metadata": {},
   "source": [
    "# Iris dataset"
   ]
  },
  {
   "cell_type": "markdown",
   "metadata": {},
   "source": [
    "### Dataset load and setting"
   ]
  },
  {
   "cell_type": "code",
   "execution_count": 3,
   "metadata": {},
   "outputs": [],
   "source": [
    "# create object of class 'load_iris'\n",
    "iris = load_iris()"
   ]
  },
  {
   "cell_type": "code",
   "execution_count": 4,
   "metadata": {},
   "outputs": [],
   "source": [
    "# save features and targets from the 'iris'\n",
    "features, targets = iris.data, iris.target\n"
   ]
  },
  {
   "cell_type": "code",
   "execution_count": null,
   "metadata": {},
   "outputs": [],
   "source": []
  },
  {
   "cell_type": "markdown",
   "metadata": {},
   "source": [
    "### Dataset Split into:\n",
    "Train, test and validation"
   ]
  },
  {
   "cell_type": "code",
   "execution_count": 5,
   "metadata": {},
   "outputs": [],
   "source": [
    "# Split: train_size=0.8 and test_size=0.2\n",
    "# in a second split the test size will be split into two. \n",
    "# It will be 0.1 to test set  and 0.1 to validation set  \n",
    "train_features, test_features, train_targets, test_targets = train_test_split(\n",
    "        features, targets,\n",
    "        train_size=0.8,\n",
    "        test_size=0.2,\n",
    "        random_state=23,\n",
    "        stratify=targets\n",
    "    )"
   ]
  },
  {
   "cell_type": "code",
   "execution_count": 6,
   "metadata": {},
   "outputs": [],
   "source": [
    " class_number = len(np.unique(targets))"
   ]
  },
  {
   "cell_type": "code",
   "execution_count": 7,
   "metadata": {},
   "outputs": [
    {
     "data": {
      "text/plain": [
       "3"
      ]
     },
     "execution_count": 7,
     "metadata": {},
     "output_type": "execute_result"
    }
   ],
   "source": [
    "# amount of classes to the problem\n",
    "class_number"
   ]
  },
  {
   "cell_type": "code",
   "execution_count": 8,
   "metadata": {},
   "outputs": [
    {
     "data": {
      "text/plain": [
       "(30, 4)"
      ]
     },
     "execution_count": 8,
     "metadata": {},
     "output_type": "execute_result"
    }
   ],
   "source": [
    "test_features.shape"
   ]
  },
  {
   "cell_type": "code",
   "execution_count": 9,
   "metadata": {},
   "outputs": [
    {
     "data": {
      "text/plain": [
       "(120, 4)"
      ]
     },
     "execution_count": 9,
     "metadata": {},
     "output_type": "execute_result"
    }
   ],
   "source": [
    "train_features.shape"
   ]
  },
  {
   "cell_type": "markdown",
   "metadata": {},
   "source": [
    "## Amount of half of the test's first split"
   ]
  },
  {
   "cell_type": "code",
   "execution_count": 10,
   "metadata": {},
   "outputs": [],
   "source": [
    "half_test_samples = int((len(test_features))/2)"
   ]
  },
  {
   "cell_type": "markdown",
   "metadata": {},
   "source": [
    "### Split of the test set into half"
   ]
  },
  {
   "cell_type": "code",
   "execution_count": 11,
   "metadata": {},
   "outputs": [],
   "source": [
    "val_features = test_features[:half_test_samples]"
   ]
  },
  {
   "cell_type": "code",
   "execution_count": 12,
   "metadata": {},
   "outputs": [
    {
     "data": {
      "text/plain": [
       "(15, 4)"
      ]
     },
     "execution_count": 12,
     "metadata": {},
     "output_type": "execute_result"
    }
   ],
   "source": [
    "val_features.shape"
   ]
  },
  {
   "cell_type": "code",
   "execution_count": 13,
   "metadata": {},
   "outputs": [],
   "source": [
    "val_targets = test_targets[:half_test_samples]"
   ]
  },
  {
   "cell_type": "markdown",
   "metadata": {},
   "source": [
    "### Test set now is it's half size"
   ]
  },
  {
   "cell_type": "code",
   "execution_count": 14,
   "metadata": {},
   "outputs": [],
   "source": [
    "test_features = test_features[half_test_samples:]"
   ]
  },
  {
   "cell_type": "code",
   "execution_count": 15,
   "metadata": {},
   "outputs": [
    {
     "data": {
      "text/plain": [
       "(15, 4)"
      ]
     },
     "execution_count": 15,
     "metadata": {},
     "output_type": "execute_result"
    }
   ],
   "source": [
    "test_features.shape"
   ]
  },
  {
   "cell_type": "code",
   "execution_count": 16,
   "metadata": {},
   "outputs": [],
   "source": [
    "test_targets = test_targets[half_test_samples:]"
   ]
  },
  {
   "cell_type": "code",
   "execution_count": 17,
   "metadata": {},
   "outputs": [
    {
     "data": {
      "text/plain": [
       "array([1, 2, 1, 1, 2, 0, 2, 2, 0, 0, 0, 0, 1, 1, 1])"
      ]
     },
     "execution_count": 17,
     "metadata": {},
     "output_type": "execute_result"
    }
   ],
   "source": [
    "test_targets"
   ]
  },
  {
   "cell_type": "code",
   "execution_count": 18,
   "metadata": {},
   "outputs": [],
   "source": [
    "test_targets_metrics = test_targets"
   ]
  },
  {
   "cell_type": "markdown",
   "metadata": {},
   "source": [
    "## Model Creation"
   ]
  },
  {
   "cell_type": "code",
   "execution_count": 19,
   "metadata": {},
   "outputs": [],
   "source": [
    "def create_MLP_model(classes_number):\n",
    "    \"\"\"\n",
    "    Function to create a MLP model\n",
    "    classes_number: Number of classes to be classified\n",
    "    \n",
    "    return model - model to be used in the training stage\n",
    "    \"\"\"\n",
    "    input_dim = 4\n",
    "    model = Sequential()\n",
    "    model.add(Dense(64, input_dim=4, activation='sigmoid'))\n",
    "    model.add(Dropout(0.5))\n",
    "    model.add(Dense(3, activation='softmax'))\n",
    "\n",
    "    return model"
   ]
  },
  {
   "cell_type": "markdown",
   "metadata": {},
   "source": [
    "## Encoding classes"
   ]
  },
  {
   "cell_type": "code",
   "execution_count": 20,
   "metadata": {},
   "outputs": [],
   "source": [
    "train_targets = keras.utils.np_utils.to_categorical(train_targets, class_number)\n",
    "test_targets = keras.utils.np_utils.to_categorical(test_targets, class_number)\n",
    "val_targets = keras.utils.np_utils.to_categorical(val_targets, class_number)"
   ]
  },
  {
   "cell_type": "code",
   "execution_count": null,
   "metadata": {},
   "outputs": [],
   "source": []
  },
  {
   "cell_type": "markdown",
   "metadata": {},
   "source": [
    "### Model compilation"
   ]
  },
  {
   "cell_type": "code",
   "execution_count": 21,
   "metadata": {},
   "outputs": [
    {
     "name": "stdout",
     "output_type": "stream",
     "text": [
      "WARNING:tensorflow:From /usr/local/lib/python3.6/site-packages/tensorflow/python/framework/op_def_library.py:263: colocate_with (from tensorflow.python.framework.ops) is deprecated and will be removed in a future version.\n",
      "Instructions for updating:\n",
      "Colocations handled automatically by placer.\n",
      "WARNING:tensorflow:From /usr/local/lib/python3.6/site-packages/keras/backend/tensorflow_backend.py:3445: calling dropout (from tensorflow.python.ops.nn_ops) with keep_prob is deprecated and will be removed in a future version.\n",
      "Instructions for updating:\n",
      "Please use `rate` instead of `keep_prob`. Rate should be set to `rate = 1 - keep_prob`.\n"
     ]
    }
   ],
   "source": [
    "model = create_MLP_model(class_number)"
   ]
  },
  {
   "cell_type": "code",
   "execution_count": 22,
   "metadata": {},
   "outputs": [
    {
     "name": "stdout",
     "output_type": "stream",
     "text": [
      "_________________________________________________________________\n",
      "Layer (type)                 Output Shape              Param #   \n",
      "=================================================================\n",
      "dense_1 (Dense)              (None, 64)                320       \n",
      "_________________________________________________________________\n",
      "dropout_1 (Dropout)          (None, 64)                0         \n",
      "_________________________________________________________________\n",
      "dense_2 (Dense)              (None, 3)                 195       \n",
      "=================================================================\n",
      "Total params: 515\n",
      "Trainable params: 515\n",
      "Non-trainable params: 0\n",
      "_________________________________________________________________\n"
     ]
    }
   ],
   "source": [
    " model.summary()"
   ]
  },
  {
   "cell_type": "code",
   "execution_count": 100,
   "metadata": {},
   "outputs": [],
   "source": [
    "model.compile(optimizer=SGD(lr=0.1),\n",
    "              loss='categorical_crossentropy',\n",
    "              metrics=['accuracy'])\n"
   ]
  },
  {
   "cell_type": "code",
   "execution_count": 101,
   "metadata": {},
   "outputs": [],
   "source": [
    "#variables and constants to the model training\n",
    "callbacks_list = []\n",
    "path_to_save_model = \"model/best_model.h5\"\n",
    "\n"
   ]
  },
  {
   "cell_type": "markdown",
   "metadata": {},
   "source": [
    "### Callbacks"
   ]
  },
  {
   "cell_type": "code",
   "execution_count": 102,
   "metadata": {},
   "outputs": [],
   "source": [
    "#model checkpoint to save just the best model with the lowest loss\n",
    "model_checkpoint = ModelCheckpoint(path_to_save_model,\n",
    "                                   monitor='val_loss',\n",
    "                                   verbose=2,\n",
    "                                   save_best_only=True,\n",
    "                                   save_weights_only=False,\n",
    "                                   mode='auto',\n",
    "                                   period=1)\n",
    "\n",
    "callbacks_list.append(model_checkpoint)"
   ]
  },
  {
   "cell_type": "code",
   "execution_count": 103,
   "metadata": {},
   "outputs": [],
   "source": [
    "early_stop_callback = EarlyStopping(monitor='val_loss',\n",
    "                                    min_delta=0,  \n",
    "                                    patience=10,\n",
    "                                    verbose=2,\n",
    "                                    mode='auto',\n",
    "                                    baseline=None,\n",
    "                                    restore_best_weights=False)\n",
    "\n",
    "callbacks_list.append(early_stop_callback)"
   ]
  },
  {
   "cell_type": "code",
   "execution_count": null,
   "metadata": {},
   "outputs": [],
   "source": [
    "\n"
   ]
  },
  {
   "cell_type": "code",
   "execution_count": 104,
   "metadata": {},
   "outputs": [
    {
     "name": "stdout",
     "output_type": "stream",
     "text": [
      "Train on 120 samples, validate on 15 samples\n",
      "Epoch 1/300\n",
      " - 1s - loss: 0.2006 - acc: 0.9417 - val_loss: 0.1411 - val_acc: 0.9333\n",
      "\n",
      "Epoch 00001: val_loss improved from inf to 0.14109, saving model to model/best_model.h5\n",
      "Epoch 2/300\n",
      " - 0s - loss: 0.2032 - acc: 0.9333 - val_loss: 0.1088 - val_acc: 1.0000\n",
      "\n",
      "Epoch 00002: val_loss improved from 0.14109 to 0.10876, saving model to model/best_model.h5\n",
      "Epoch 3/300\n",
      " - 0s - loss: 0.2202 - acc: 0.9000 - val_loss: 0.1258 - val_acc: 1.0000\n",
      "\n",
      "Epoch 00003: val_loss did not improve from 0.10876\n",
      "Epoch 4/300\n",
      " - 0s - loss: 0.1927 - acc: 0.9083 - val_loss: 0.1319 - val_acc: 0.9333\n",
      "\n",
      "Epoch 00004: val_loss did not improve from 0.10876\n",
      "Epoch 5/300\n",
      " - 0s - loss: 0.1737 - acc: 0.9250 - val_loss: 0.1504 - val_acc: 0.9333\n",
      "\n",
      "Epoch 00005: val_loss did not improve from 0.10876\n",
      "Epoch 6/300\n",
      " - 0s - loss: 0.1914 - acc: 0.9167 - val_loss: 0.1257 - val_acc: 1.0000\n",
      "\n",
      "Epoch 00006: val_loss did not improve from 0.10876\n",
      "Epoch 7/300\n",
      " - 0s - loss: 0.1988 - acc: 0.9333 - val_loss: 0.1134 - val_acc: 1.0000\n",
      "\n",
      "Epoch 00007: val_loss did not improve from 0.10876\n",
      "Epoch 8/300\n",
      " - 0s - loss: 0.1568 - acc: 0.9667 - val_loss: 0.1652 - val_acc: 0.9333\n",
      "\n",
      "Epoch 00008: val_loss did not improve from 0.10876\n",
      "Epoch 9/300\n",
      " - 0s - loss: 0.1987 - acc: 0.9333 - val_loss: 0.1452 - val_acc: 0.9333\n",
      "\n",
      "Epoch 00009: val_loss did not improve from 0.10876\n",
      "Epoch 10/300\n",
      " - 0s - loss: 0.1794 - acc: 0.9333 - val_loss: 0.1280 - val_acc: 0.9333\n",
      "\n",
      "Epoch 00010: val_loss did not improve from 0.10876\n",
      "Epoch 11/300\n",
      " - 0s - loss: 0.1680 - acc: 0.9583 - val_loss: 0.1240 - val_acc: 1.0000\n",
      "\n",
      "Epoch 00011: val_loss did not improve from 0.10876\n",
      "Epoch 12/300\n",
      " - 0s - loss: 0.1670 - acc: 0.9667 - val_loss: 0.1327 - val_acc: 0.9333\n",
      "\n",
      "Epoch 00012: val_loss did not improve from 0.10876\n",
      "Epoch 00012: early stopping\n"
     ]
    }
   ],
   "source": [
    "history = model.fit(train_features,\n",
    "                    train_targets,\n",
    "                    batch_size=32,\n",
    "                    epochs=300,\n",
    "                    verbose=2,\n",
    "                    callbacks = callbacks_list,\n",
    "                    validation_data=(val_features, val_targets))"
   ]
  },
  {
   "cell_type": "markdown",
   "metadata": {},
   "source": [
    "### Test saved model"
   ]
  },
  {
   "cell_type": "code",
   "execution_count": 105,
   "metadata": {},
   "outputs": [],
   "source": [
    "model = load_model(path_to_save_model)"
   ]
  },
  {
   "cell_type": "code",
   "execution_count": 106,
   "metadata": {},
   "outputs": [
    {
     "name": "stdout",
     "output_type": "stream",
     "text": [
      "\r",
      "15/15 [==============================] - 0s 12ms/step\n"
     ]
    }
   ],
   "source": [
    "_, accuracy = model.evaluate(test_features, test_targets)"
   ]
  },
  {
   "cell_type": "code",
   "execution_count": 107,
   "metadata": {},
   "outputs": [],
   "source": [
    "predictions = model.predict(test_features)"
   ]
  },
  {
   "cell_type": "code",
   "execution_count": 108,
   "metadata": {},
   "outputs": [
    {
     "name": "stdout",
     "output_type": "stream",
     "text": [
      "Accuracy: 93.33\n"
     ]
    }
   ],
   "source": [
    "print('Accuracy: %.2f' % (accuracy*100))\n"
   ]
  },
  {
   "cell_type": "markdown",
   "metadata": {},
   "source": [
    "### Confusion Matrix"
   ]
  },
  {
   "cell_type": "code",
   "execution_count": 109,
   "metadata": {},
   "outputs": [
    {
     "data": {
      "text/plain": [
       "array([[5, 0, 0],\n",
       "       [0, 5, 1],\n",
       "       [0, 0, 4]])"
      ]
     },
     "execution_count": 109,
     "metadata": {},
     "output_type": "execute_result"
    }
   ],
   "source": [
    "confusion_matrix(test_targets.argmax(axis=1), predictions.argmax(axis=1))"
   ]
  },
  {
   "cell_type": "markdown",
   "metadata": {},
   "source": [
    "### Other metrics of the model\n",
    "Precision, recall and f1-score"
   ]
  },
  {
   "cell_type": "code",
   "execution_count": 110,
   "metadata": {},
   "outputs": [
    {
     "name": "stdout",
     "output_type": "stream",
     "text": [
      "              precision    recall  f1-score   support\n",
      "\n",
      "           0       1.00      1.00      1.00         5\n",
      "           1       1.00      0.83      0.91         6\n",
      "           2       0.80      1.00      0.89         4\n",
      "\n",
      "   micro avg       0.93      0.93      0.93        15\n",
      "   macro avg       0.93      0.94      0.93        15\n",
      "weighted avg       0.95      0.93      0.93        15\n",
      "\n"
     ]
    }
   ],
   "source": [
    "print(classification_report(test_targets_metrics,predictions.argmax(axis=1)))"
   ]
  },
  {
   "cell_type": "code",
   "execution_count": null,
   "metadata": {},
   "outputs": [],
   "source": []
  },
  {
   "cell_type": "markdown",
   "metadata": {},
   "source": [
    "### Accuracy and Loss plot"
   ]
  },
  {
   "cell_type": "code",
   "execution_count": 111,
   "metadata": {},
   "outputs": [
    {
     "data": {
      "image/png": "[encoded data removed]",
      "text/plain": [
       "<Figure size 432x288 with 1 Axes>"
      ]
     },
     "metadata": {
      "needs_background": "light"
     },
     "output_type": "display_data"
    }
   ],
   "source": [
    "plt.figure()\n",
    "plt.plot(history.history['acc'])\n",
    "plt.plot(history.history['val_acc'], 'g')\n",
    "plt.title('model accuracy')\n",
    "plt.ylabel('accuracy')\n",
    "plt.xlabel('epoch')\n",
    "plt.legend(['train', 'test'], loc='upper left')\n",
    "plt.savefig('accurary_1.png')"
   ]
  },
  {
   "cell_type": "code",
   "execution_count": 112,
   "metadata": {},
   "outputs": [
    {
     "data": {
      "image/png": "[encoded data removed]",
      "text/plain": [
       "<Figure size 432x288 with 1 Axes>"
      ]
     },
     "metadata": {
      "needs_background": "light"
     },
     "output_type": "display_data"
    }
   ],
   "source": [
    "plt.figure()\n",
    "plt.plot(history.history['loss'])\n",
    "plt.plot(history.history['val_loss'], 'g')\n",
    "plt.title('model loss')\n",
    "plt.ylabel('loss')\n",
    "plt.xlabel('epoch')\n",
    "plt.legend(['train', 'test'], loc='upper left')\n",
    "plt.savefig('model_loss_1.png')"
   ]
  },
  {
   "cell_type": "markdown",
   "metadata": {},
   "source": [
    "## Segunda abordagem: mais camadas escondidas no modelo"
   ]
  },
  {
   "cell_type": "code",
   "execution_count": 57,
   "metadata": {},
   "outputs": [],
   "source": [
    "def create_MLP_model(classes_number):\n",
    "    \"\"\"\n",
    "    Function to create a MLP model\n",
    "    classes_number: Number of classes to be classified\n",
    "    \n",
    "    return model - model to be used in the training stage\n",
    "    \"\"\"\n",
    "    input_dim = 4\n",
    "    model = Sequential()\n",
    "    model.add(Dense(32, input_dim=4, activation='sigmoid'))\n",
    "    model.add(Dropout(0.5))\n",
    "    model.add(Dense(32, input_dim=input_dim, activation='sigmoid'))\n",
    "    model.add(Dropout(0.5))\n",
    "#     model.add(Dense(64, input_dim=input_dim, activation='sigmoid'))\n",
    "    model.add(Dense(3, activation='softmax'))\n",
    "\n",
    "    return model"
   ]
  },
  {
   "cell_type": "code",
   "execution_count": 58,
   "metadata": {},
   "outputs": [],
   "source": [
    "model2 = create_MLP_model(class_number)"
   ]
  },
  {
   "cell_type": "code",
   "execution_count": 59,
   "metadata": {},
   "outputs": [
    {
     "name": "stdout",
     "output_type": "stream",
     "text": [
      "_________________________________________________________________\n",
      "Layer (type)                 Output Shape              Param #   \n",
      "=================================================================\n",
      "dense_10 (Dense)             (None, 32)                160       \n",
      "_________________________________________________________________\n",
      "dropout_6 (Dropout)          (None, 32)                0         \n",
      "_________________________________________________________________\n",
      "dense_11 (Dense)             (None, 32)                1056      \n",
      "_________________________________________________________________\n",
      "dropout_7 (Dropout)          (None, 32)                0         \n",
      "_________________________________________________________________\n",
      "dense_12 (Dense)             (None, 3)                 99        \n",
      "=================================================================\n",
      "Total params: 1,315\n",
      "Trainable params: 1,315\n",
      "Non-trainable params: 0\n",
      "_________________________________________________________________\n"
     ]
    }
   ],
   "source": [
    " model2.summary()"
   ]
  },
  {
   "cell_type": "code",
   "execution_count": 114,
   "metadata": {},
   "outputs": [],
   "source": [
    "path_to_save_model2 = \"model/best_model2.h5\""
   ]
  },
  {
   "cell_type": "code",
   "execution_count": 115,
   "metadata": {},
   "outputs": [],
   "source": [
    "model2.compile(optimizer=SGD(lr=0.01),\n",
    "              loss='categorical_crossentropy',\n",
    "              metrics=['accuracy'])"
   ]
  },
  {
   "cell_type": "code",
   "execution_count": 119,
   "metadata": {},
   "outputs": [
    {
     "name": "stdout",
     "output_type": "stream",
     "text": [
      "Train on 120 samples, validate on 15 samples\n",
      "Epoch 1/600\n",
      " - 0s - loss: 0.6208 - acc: 0.7000 - val_loss: 0.4432 - val_acc: 1.0000\n",
      "Epoch 2/600\n",
      " - 0s - loss: 0.6283 - acc: 0.6750 - val_loss: 0.4435 - val_acc: 1.0000\n",
      "Epoch 3/600\n",
      " - 0s - loss: 0.5936 - acc: 0.7083 - val_loss: 0.4426 - val_acc: 1.0000\n",
      "Epoch 4/600\n",
      " - 0s - loss: 0.6186 - acc: 0.6667 - val_loss: 0.4427 - val_acc: 1.0000\n",
      "Epoch 5/600\n",
      " - 0s - loss: 0.5540 - acc: 0.7833 - val_loss: 0.4419 - val_acc: 1.0000\n",
      "Epoch 6/600\n",
      " - 0s - loss: 0.5671 - acc: 0.6667 - val_loss: 0.4423 - val_acc: 1.0000\n",
      "Epoch 7/600\n",
      " - 0s - loss: 0.5823 - acc: 0.6917 - val_loss: 0.4411 - val_acc: 1.0000\n",
      "Epoch 8/600\n",
      " - 0s - loss: 0.5493 - acc: 0.7250 - val_loss: 0.4410 - val_acc: 1.0000\n",
      "Epoch 9/600\n",
      " - 0s - loss: 0.5755 - acc: 0.7500 - val_loss: 0.4402 - val_acc: 1.0000\n",
      "Epoch 10/600\n",
      " - 0s - loss: 0.5581 - acc: 0.7333 - val_loss: 0.4404 - val_acc: 1.0000\n",
      "Epoch 11/600\n",
      " - 0s - loss: 0.5239 - acc: 0.7750 - val_loss: 0.4404 - val_acc: 1.0000\n",
      "Epoch 12/600\n",
      " - 0s - loss: 0.6231 - acc: 0.6333 - val_loss: 0.4414 - val_acc: 1.0000\n",
      "Epoch 13/600\n",
      " - 0s - loss: 0.5798 - acc: 0.6917 - val_loss: 0.4410 - val_acc: 1.0000\n",
      "Epoch 14/600\n",
      " - 0s - loss: 0.5787 - acc: 0.7000 - val_loss: 0.4401 - val_acc: 1.0000\n",
      "Epoch 15/600\n",
      " - 0s - loss: 0.5968 - acc: 0.7083 - val_loss: 0.4405 - val_acc: 1.0000\n",
      "Epoch 16/600\n",
      " - 0s - loss: 0.5960 - acc: 0.6500 - val_loss: 0.4409 - val_acc: 1.0000\n",
      "Epoch 17/600\n",
      " - 0s - loss: 0.6037 - acc: 0.6667 - val_loss: 0.4412 - val_acc: 1.0000\n",
      "Epoch 18/600\n",
      " - 0s - loss: 0.5385 - acc: 0.8083 - val_loss: 0.4402 - val_acc: 1.0000\n",
      "Epoch 19/600\n",
      " - 0s - loss: 0.5212 - acc: 0.7750 - val_loss: 0.4406 - val_acc: 1.0000\n",
      "Epoch 20/600\n",
      " - 0s - loss: 0.5969 - acc: 0.6500 - val_loss: 0.4408 - val_acc: 1.0000\n",
      "Epoch 21/600\n",
      " - 0s - loss: 0.6280 - acc: 0.6667 - val_loss: 0.4403 - val_acc: 1.0000\n",
      "Epoch 22/600\n",
      " - 0s - loss: 0.5376 - acc: 0.6917 - val_loss: 0.4404 - val_acc: 1.0000\n",
      "Epoch 23/600\n",
      " - 0s - loss: 0.5533 - acc: 0.7667 - val_loss: 0.4397 - val_acc: 1.0000\n",
      "Epoch 24/600\n",
      " - 0s - loss: 0.5481 - acc: 0.7333 - val_loss: 0.4391 - val_acc: 1.0000\n",
      "Epoch 25/600\n",
      " - 0s - loss: 0.5976 - acc: 0.6667 - val_loss: 0.4388 - val_acc: 1.0000\n",
      "Epoch 26/600\n",
      " - 0s - loss: 0.6601 - acc: 0.6667 - val_loss: 0.4378 - val_acc: 1.0000\n",
      "Epoch 27/600\n",
      " - 0s - loss: 0.5575 - acc: 0.7167 - val_loss: 0.4371 - val_acc: 0.9333\n",
      "Epoch 28/600\n",
      " - 0s - loss: 0.5972 - acc: 0.7750 - val_loss: 0.4369 - val_acc: 0.9333\n",
      "Epoch 29/600\n",
      " - 0s - loss: 0.5629 - acc: 0.6917 - val_loss: 0.4370 - val_acc: 0.9333\n",
      "Epoch 30/600\n",
      " - 0s - loss: 0.5919 - acc: 0.6667 - val_loss: 0.4370 - val_acc: 0.9333\n",
      "Epoch 31/600\n",
      " - 0s - loss: 0.5724 - acc: 0.7250 - val_loss: 0.4375 - val_acc: 1.0000\n",
      "Epoch 32/600\n",
      " - 0s - loss: 0.5896 - acc: 0.6667 - val_loss: 0.4374 - val_acc: 1.0000\n",
      "Epoch 33/600\n",
      " - 0s - loss: 0.6138 - acc: 0.7333 - val_loss: 0.4368 - val_acc: 0.9333\n",
      "Epoch 34/600\n",
      " - 0s - loss: 0.5837 - acc: 0.7083 - val_loss: 0.4365 - val_acc: 0.9333\n",
      "Epoch 35/600\n",
      " - 0s - loss: 0.5669 - acc: 0.7333 - val_loss: 0.4364 - val_acc: 0.9333\n",
      "Epoch 36/600\n",
      " - 0s - loss: 0.5756 - acc: 0.6500 - val_loss: 0.4358 - val_acc: 0.9333\n",
      "Epoch 37/600\n",
      " - 0s - loss: 0.5969 - acc: 0.7000 - val_loss: 0.4366 - val_acc: 0.9333\n",
      "Epoch 38/600\n",
      " - 0s - loss: 0.5760 - acc: 0.7000 - val_loss: 0.4370 - val_acc: 1.0000\n",
      "Epoch 39/600\n",
      " - 0s - loss: 0.5517 - acc: 0.7333 - val_loss: 0.4365 - val_acc: 1.0000\n",
      "Epoch 40/600\n",
      " - 0s - loss: 0.5970 - acc: 0.6667 - val_loss: 0.4372 - val_acc: 1.0000\n",
      "Epoch 41/600\n",
      " - 0s - loss: 0.5716 - acc: 0.6500 - val_loss: 0.4373 - val_acc: 1.0000\n",
      "Epoch 42/600\n",
      " - 0s - loss: 0.5587 - acc: 0.7500 - val_loss: 0.4369 - val_acc: 1.0000\n",
      "Epoch 43/600\n",
      " - 0s - loss: 0.5904 - acc: 0.7083 - val_loss: 0.4371 - val_acc: 1.0000\n",
      "Epoch 44/600\n",
      " - 0s - loss: 0.6038 - acc: 0.6583 - val_loss: 0.4374 - val_acc: 1.0000\n",
      "Epoch 45/600\n",
      " - 0s - loss: 0.5966 - acc: 0.7083 - val_loss: 0.4372 - val_acc: 1.0000\n",
      "Epoch 46/600\n",
      " - 0s - loss: 0.6244 - acc: 0.6750 - val_loss: 0.4364 - val_acc: 1.0000\n",
      "Epoch 00046: early stopping\n"
     ]
    }
   ],
   "source": [
    "history2 = model2.fit(train_features,\n",
    "                    train_targets,\n",
    "                    batch_size=32,\n",
    "                    epochs=600,\n",
    "                    verbose=2,\n",
    "                    callbacks=[early_stop_callback],\n",
    "                    validation_data=(val_features, val_targets))"
   ]
  },
  {
   "cell_type": "code",
   "execution_count": 120,
   "metadata": {},
   "outputs": [
    {
     "data": {
      "image/png": "[encoded data removed]",
      "text/plain": [
       "<Figure size 432x288 with 1 Axes>"
      ]
     },
     "metadata": {
      "needs_background": "light"
     },
     "output_type": "display_data"
    }
   ],
   "source": [
    "plt.figure()\n",
    "plt.plot(history2.history['acc'])\n",
    "plt.plot(history2.history['val_acc'], 'g')\n",
    "plt.title('model accuracy')\n",
    "plt.ylabel('accuracy')\n",
    "plt.xlabel('epoch')\n",
    "plt.legend(['train', 'test'], loc='upper left')\n",
    "plt.savefig('accurary_2_approach.png')"
   ]
  },
  {
   "cell_type": "code",
   "execution_count": 121,
   "metadata": {},
   "outputs": [
    {
     "data": {
      "image/png": "[encoded data removed]",
      "text/plain": [
       "<Figure size 432x288 with 1 Axes>"
      ]
     },
     "metadata": {
      "needs_background": "light"
     },
     "output_type": "display_data"
    }
   ],
   "source": [
    "plt.figure()\n",
    "plt.plot(history2.history['loss'])\n",
    "plt.plot(history2.history['val_loss'], 'g')\n",
    "plt.title('model loss')\n",
    "plt.ylabel('loss')\n",
    "plt.xlabel('epoch')\n",
    "plt.legend(['train', 'test'], loc='upper left')\n",
    "plt.savefig('model_loss_2_approach.png')"
   ]
  },
  {
   "cell_type": "code",
   "execution_count": 123,
   "metadata": {},
   "outputs": [
    {
     "name": "stdout",
     "output_type": "stream",
     "text": [
      "15/15 [==============================] - 0s 103us/step\n",
      "Accuracy: 86.67\n",
      "[[5 0 0]\n",
      " [0 4 2]\n",
      " [0 0 4]]\n",
      "              precision    recall  f1-score   support\n",
      "\n",
      "           0       1.00      1.00      1.00         5\n",
      "           1       1.00      0.67      0.80         6\n",
      "           2       0.67      1.00      0.80         4\n",
      "\n",
      "   micro avg       0.87      0.87      0.87        15\n",
      "   macro avg       0.89      0.89      0.87        15\n",
      "weighted avg       0.91      0.87      0.87        15\n",
      "\n"
     ]
    }
   ],
   "source": [
    "_, accuracy2 = model2.evaluate(test_features, test_targets)\n",
    "\n",
    "predictions2 = model2.predict(test_features)\n",
    "\n",
    "print('Accuracy: %.2f' % (accuracy2*100))\n",
    "\n",
    "\n",
    "### Confusion Matrix\n",
    "\n",
    "print(confusion_matrix(test_targets.argmax(axis=1), predictions2.argmax(axis=1)))\n",
    "\n",
    "### Other metrics of the model\n",
    "##Precision, recall and f1-score\n",
    "\n",
    "print(classification_report(test_targets_metrics,predictions2.argmax(axis=1)))"
   ]
  },
  {
   "cell_type": "code",
   "execution_count": null,
   "metadata": {},
   "outputs": [],
   "source": []
  }
 ],
 "metadata": {
  "kernelspec": {
   "display_name": "Python 3",
   "language": "python",
   "name": "python3"
  },
  "language_info": {
   "codemirror_mode": {
    "name": "ipython",
    "version": 3
   },
   "file_extension": ".py",
   "mimetype": "text/x-python",
   "name": "python",
   "nbconvert_exporter": "python",
   "pygments_lexer": "ipython3",
   "version": "3.6.8"
  }
 },
 "nbformat": 4,
 "nbformat_minor": 2
}
